{
 "cells": [
  {
   "cell_type": "code",
   "execution_count": 1,
   "id": "0a7feaa4",
   "metadata": {},
   "outputs": [],
   "source": [
    "from gensim.models.fasttext import FastText, save_facebook_model\n",
    "import pandas as pd\n",
    "import jieba\n",
    "import numpy as np\n",
    "import joblib\n",
    "import re\n",
    "from SATG import SeqTheta2"
   ]
  },
  {
   "cell_type": "markdown",
   "id": "a9a2f925",
   "metadata": {},
   "source": [
    "`pip install SATG-0.1-py3-none-any.whl`"
   ]
  },
  {
   "attachments": {},
   "cell_type": "markdown",
   "id": "5dc0d1ac",
   "metadata": {},
   "source": [
    "# Dealing with the FastText\n",
    "\n",
    "| aim | training the fasttext models |\n",
    "| :-: | :- |\n",
    "| Chinese model | https://dl.fbaipublicfiles.com/fasttext/vectors-crawl/cc.zh.300.bin.gz |\n",
    "| English model | https://dl.fbaipublicfiles.com/fasttext/vectors-crawl/cc.en.300.bin.gz |\n",
    "\n",
    "`rmSm_chinese_dataorigin10.csv` is the open-source dataset for TTPs classification\n",
    "`./SATG_pretrained_models/` keeps the pretrained models\n",
    "`./_data/` is where user keeps data. Now is empty. You need **First Download the FastText models above** to init the environment. "
   ]
  },
  {
   "cell_type": "code",
   "execution_count": null,
   "id": "524bd119",
   "metadata": {},
   "outputs": [],
   "source": [
    "model = FastText.load_fasttext_format('./_data/cc.zh.300.bin')"
   ]
  },
  {
   "cell_type": "code",
   "execution_count": 10,
   "id": "8fd845b2",
   "metadata": {},
   "outputs": [],
   "source": [
    "datas = pd.read_csv('./rmSm_chinese_dataorigin10.csv', encoding='gbk')"
   ]
  },
  {
   "cell_type": "code",
   "execution_count": null,
   "id": "5e5ebcea",
   "metadata": {},
   "outputs": [],
   "source": [
    "texts = datas['Text'].values.tolist()"
   ]
  },
  {
   "cell_type": "code",
   "execution_count": null,
   "id": "4748b79d",
   "metadata": {},
   "outputs": [],
   "source": [
    "words = [[w for w in l if w not in ' .,()-&%/\\\\:><@\\'\"'] for l in [jieba.lcut(t.lower()) for t in texts]]"
   ]
  },
  {
   "cell_type": "code",
   "execution_count": null,
   "id": "92ea37ee",
   "metadata": {},
   "outputs": [],
   "source": [
    "model.build_vocab(words, update=True)"
   ]
  },
  {
   "cell_type": "code",
   "execution_count": null,
   "id": "95e81523",
   "metadata": {},
   "outputs": [],
   "source": [
    "model.train(words, total_examples=len(words), epochs=10)"
   ]
  },
  {
   "cell_type": "code",
   "execution_count": null,
   "id": "ce5b5515",
   "metadata": {},
   "outputs": [],
   "source": [
    "save_facebook_model(model, './_data/ttp_fasttext_model_cn.bin')"
   ]
  },
  {
   "cell_type": "code",
   "execution_count": null,
   "id": "909159e4",
   "metadata": {},
   "outputs": [],
   "source": [
    "vecshape = (len(words), np.max(np.array([len(l) for l in words])), model.wv[words[0][1]].shape[0])"
   ]
  },
  {
   "cell_type": "code",
   "execution_count": null,
   "id": "dee22ac1",
   "metadata": {},
   "outputs": [],
   "source": [
    "vecs = np.zeros(vecshape, dtype='float32')\n",
    "for i, l in enumerate(words):\n",
    "    for j, w in enumerate(l):\n",
    "        vecs[i,j] = model.wv[w]"
   ]
  },
  {
   "cell_type": "code",
   "execution_count": null,
   "id": "d3954466",
   "metadata": {},
   "outputs": [],
   "source": [
    "joblib.dump((words, vecs), './_data/ttp_fasttext_words_vecs_cn.data')"
   ]
  },
  {
   "cell_type": "code",
   "execution_count": null,
   "id": "39c47147",
   "metadata": {},
   "outputs": [],
   "source": [
    "def cut_train_test(k=10, words=words, vecs=vecs, datas=datas, save_path='./_data/dataorigin10/cn'):\n",
    "    indexs = [[i for i in range(len(words)) if i%k==s] for s in range(k)]\n",
    "    tac_ids = [k for k in datas.keys() if re.match('TA\\d+', k)]\n",
    "    tec_ids = [k for k in datas.keys() if re.match('T\\d+', k)]\n",
    "    tac_vecs = datas[tac_ids].values\n",
    "    tec_vecs = datas[tec_ids].values\n",
    "    w = np.array(words)\n",
    "    for i, test_index in enumerate(indexs):\n",
    "        train_index = []\n",
    "        for j in range(len(indexs)):\n",
    "            if i != j:\n",
    "                train_index += indexs[j]\n",
    "        train_words = w[train_index].tolist()\n",
    "        test_words = w[test_index].tolist()\n",
    "        train_sets = [vecs[train_index], tac_vecs[train_index], tec_vecs[train_index]]\n",
    "        test_sets = [vecs[test_index], tac_vecs[test_index], tec_vecs[test_index]]\n",
    "        save_file = save_path+'-k='+str(k)+'-test='+str(i)+'.data'\n",
    "        joblib.dump((train_sets, None, test_sets, train_index, None, test_index, train_words, None, test_words), save_file)\n",
    "        print(save_file,'complete!')"
   ]
  },
  {
   "cell_type": "code",
   "execution_count": null,
   "id": "fc69bd5f",
   "metadata": {},
   "outputs": [],
   "source": [
    "cut_train_test(10)"
   ]
  },
  {
   "attachments": {},
   "cell_type": "markdown",
   "id": "dfe5ab3b",
   "metadata": {},
   "source": [
    "# Retrain SATG's models \n",
    " We have 2 types of models:\n",
    " - SeqTheta: the model with only one topic prototype\n",
    " - MultiSeq: the model which holds more than one topic prototypes"
   ]
  },
  {
   "cell_type": "code",
   "execution_count": null,
   "id": "c4c67dfe",
   "metadata": {},
   "outputs": [],
   "source": [
    "test = joblib.load('./_data/dataorigin10/cn-k=10-test=0.data')"
   ]
  },
  {
   "cell_type": "code",
   "execution_count": null,
   "id": "0bbc6cad",
   "metadata": {},
   "outputs": [],
   "source": [
    "OUTINDEX = 2"
   ]
  },
  {
   "cell_type": "code",
   "execution_count": null,
   "id": "d81aba04",
   "metadata": {},
   "outputs": [],
   "source": [
    "seqtheta2 = SeqTheta2(\n",
    "    in_shape=test[0][0].shape[1:],\n",
    "    out_shape=test[0][OUTINDEX].shape[-1],\n",
    "    \n",
    "    use_birnn=False,\n",
    "    use_conv=True,\n",
    "    f_type='dense',\n",
    "    \n",
    "    score_l=2,#l范式\n",
    "    theta=0.,#开始阈值:σ(theta)\n",
    "    cut_scale=None,#放大倍率\n",
    "    cut_lambda=0.01,#拉普拉斯平滑系数\n",
    "    use_top_k=False,\n",
    "    activation='sigmoid',\n",
    "    \n",
    "    test_datas=[\n",
    "        test[2][0],\n",
    "        test[2][OUTINDEX]\n",
    "    ],\n",
    ")"
   ]
  },
  {
   "cell_type": "code",
   "execution_count": null,
   "id": "29e45883",
   "metadata": {
    "scrolled": true
   },
   "outputs": [],
   "source": [
    "seqtheta2.train(\n",
    "    x=test[0][0],\n",
    "    y=test[0][OUTINDEX],\n",
    "    z=np.zeros(test[0][OUTINDEX].shape),\n",
    "    epochs=40,\n",
    "    batch_size=64,\n",
    "    \n",
    "    use_model='notheta4neg',\n",
    "    \n",
    "    use_test_epoch=True\n",
    ")"
   ]
  },
  {
   "cell_type": "code",
   "execution_count": null,
   "id": "6685d9a4",
   "metadata": {},
   "outputs": [],
   "source": [
    "seqtheta2.evaluate(\n",
    "    test[2][0],\n",
    "    test[2][OUTINDEX]\n",
    ")"
   ]
  },
  {
   "cell_type": "code",
   "execution_count": null,
   "id": "1483723a",
   "metadata": {},
   "outputs": [],
   "source": [
    "seqtheta2.save_all_out_model('./SATG_pretrained_models/seqtheta3-new-fasttext-cn.model')"
   ]
  },
  {
   "attachments": {},
   "cell_type": "markdown",
   "id": "c375529f",
   "metadata": {},
   "source": [
    "# How to use pretrained models to predict TTPs in CTIs\n",
    "\n",
    " We still provide two pre-trained models for Chinese deal as well as English. \n",
    " \n",
    " They can be found in dict `./SeqMask_theta_models/`"
   ]
  },
  {
   "cell_type": "code",
   "execution_count": 2,
   "id": "04f04d86",
   "metadata": {},
   "outputs": [],
   "source": [
    "def getWords(text, split_words=\"\\n.。\", line_max=80):\n",
    "    words = []\n",
    "    sents = text.split(split_words[0])\n",
    "    for sent in sents:\n",
    "        ws = jieba.lcut(sent.lower())\n",
    "        if len(ws) >= line_max:\n",
    "            ws = getWords(ws, split_words=split_words[1:], line_max=line_max)\n",
    "            words += ws\n",
    "        else:\n",
    "            words.append(ws)\n",
    "    return words"
   ]
  },
  {
   "cell_type": "code",
   "execution_count": 3,
   "id": "37e8cfcb",
   "metadata": {},
   "outputs": [],
   "source": [
    "def changeVecs(words, fastText, line_max=80, vec_max=300):\n",
    "    shape = (len(words), line_max, vec_max)\n",
    "    vecs = np.zeros(shape, dtype='float32')\n",
    "    for i, line in enumerate(words):\n",
    "        for j, w in enumerate(line):\n",
    "            vecs[i,j] = fastText.wv[w]\n",
    "    return vecs"
   ]
  },
  {
   "cell_type": "code",
   "execution_count": 26,
   "id": "5672bcef",
   "metadata": {},
   "outputs": [],
   "source": [
    "def print_predict(SeqTheta, vecs):\n",
    "    outs = SeqTheta.score_model.predict(vecs)\n",
    "    print(\"words-score:\", outs[0])\n",
    "    print(\"words-score-percent:\", outs[1])\n",
    "    print(\"positive ttp predict:\", outs[2])\n",
    "    print(\"negative ttp predict:\", outs[3])\n",
    "    print(\"original ttp predict:\", outs[3])"
   ]
  },
  {
   "cell_type": "code",
   "execution_count": 4,
   "id": "4cae14b8",
   "metadata": {},
   "outputs": [],
   "source": [
    "tactics_labels = ['TA0009', 'TA0010', 'TA0011', 'TA0004', 'TA0005', 'TA0001', 'TA0006', 'TA0007', 'TA0003', 'TA0040', 'TA0002', 'TA0008']\n",
    "technique_labels = [\n",
    "    'T1220', 'T1132', 'T1204', 'T1585', 'T1485', 'T1008', 'T1040', 'T1496', 'T1437', 'T1410', 'T1218', 'T1025', 'T1205', 'T1041',\n",
    "    'T1446', 'T1555', 'T1560', 'T1577', 'T1074', 'T1080', 'T1200', 'T1489', 'T1491', 'T1012', 'T1583', 'T1516', 'T1407', 'T1484', \n",
    "    'T1055', 'T1438', 'T1517', 'T1112', 'T1430', 'T1552', 'T1072', 'T1409', 'T1400', 'T1187', 'T1001', 'T1052', 'T1518', 'T1203', \n",
    "    'T1521', 'T1554', 'T1587', 'T1528', 'T1547', 'T1413', 'T1499', 'T1558', 'T1135', 'T1102', 'T1119', 'T1507', 'T1571', 'T1570', \n",
    "    'T1195', 'T1557', 'T1543', 'T1562', 'T1201', 'T1114', 'T1486', 'T1480', 'T1490', 'T1140', 'T1420', 'T1512', 'T1542', 'T1020', \n",
    "    'T1090', 'T1452', 'T1046', 'T1414', 'T1120', 'T1213', 'T1217', 'T1474', 'T1402', 'T1458', 'T1003', 'T1417', 'T1401', 'T1129', \n",
    "    'T1534', 'T1083', 'T1539', 'T1037', 'T1071', 'T1433', 'T1564', 'T1411', 'T1509', 'T1011', 'T1540', 'T1541', 'T1059', 'T1211', \n",
    "    'T1115', 'T1016', 'T1027', 'T1398', 'T1418', 'T1030', 'T1010', 'T1561', 'T1199', 'T1189', 'T1482', 'T1559', 'T1098', 'T1436', \n",
    "    'T1222', 'T1447', 'T1124', 'T1007', 'T1053', 'T1057', 'T1105', 'T1576', 'T1216', 'T1565', 'T1113', 'T1432', 'T1125', 'T1498', \n",
    "    'T1185', 'T1197', 'T1406', 'T1505', 'T1137', 'T1497', 'T1574', 'T1588', 'T1036', 'T1092', 'T1601', 'T1219', 'T1033', 'T1422', \n",
    "    'T1444', 'T1070', 'T1520', 'T1569', 'T1018', 'T1039', 'T1568', 'T1190', 'T1456', 'T1471', 'T1068', 'T1529', 'T1106', 'T1544',\n",
    "    'T1475', 'T1056', 'T1531', 'T1563', 'T1048', 'T1082', 'T1581', 'T1556', 'T1550', 'T1584', 'T1123', 'T1513', 'T1533', 'T1567', \n",
    "    'T1087', 'T1005', 'T1111', 'T1546', 'T1133', 'T1207', 'T1428', 'T1021', 'T1448', 'T1047', 'T1136', 'T1478', 'T1481', 'T1566', \n",
    "    'T1426', 'T1110', 'T1582', 'T1029', 'T1404', 'T1548', 'T1412', 'T1523', 'T1127', 'T1472', 'T1091', 'T1014', 'T1104', 'T1221', \n",
    "    'T1424', 'T1176', 'T1202', 'T1069', 'T1553', 'T1575', 'T1573', 'T1210', 'T1508', 'T1477', 'T1476', 'T1532', 'T1078', 'T1134', \n",
    "    'T1095', 'T1572', 'T1429', 'T1435', 'T1049', 'T1579'\n",
    "]"
   ]
  },
  {
   "attachments": {},
   "cell_type": "markdown",
   "id": "81ac6777",
   "metadata": {},
   "source": [
    "## Dealing with Chinese"
   ]
  },
  {
   "cell_type": "code",
   "execution_count": 5,
   "id": "f74a1f61",
   "metadata": {},
   "outputs": [
    {
     "name": "stderr",
     "output_type": "stream",
     "text": [
      "<ipython-input-5-9186f4547003>:2: DeprecationWarning: Call to deprecated `load_fasttext_format` (use load_facebook_vectors (to use pretrained embeddings) or load_facebook_model (to continue training with the loaded full model, more RAM) instead).\n",
      "  fastText = FastText.load_fasttext_format('./TTP_FastText/ttp_fasttext_model_cn.bin')\n"
     ]
    }
   ],
   "source": [
    "fastText = FastText.load_fasttext_format('./_data/ttp_fasttext_model_cn.bin')"
   ]
  },
  {
   "cell_type": "code",
   "execution_count": 6,
   "id": "94eed13d",
   "metadata": {},
   "outputs": [],
   "source": [
    "test_text = \"2014年和2015年报告的bisonal变体在c2中使用了一个简单的xor密码。一些bisonal样本用rc4加密c2通信。\""
   ]
  },
  {
   "cell_type": "code",
   "execution_count": 7,
   "id": "683dd56a",
   "metadata": {},
   "outputs": [
    {
     "name": "stderr",
     "output_type": "stream",
     "text": [
      "Building prefix dict from the default dictionary ...\n",
      "Loading model from cache /tmp/jieba.cache\n",
      "Loading model cost 0.576 seconds.\n",
      "Prefix dict has been built successfully.\n"
     ]
    }
   ],
   "source": [
    "test_words = getWords(test_text, line_max=79)"
   ]
  },
  {
   "cell_type": "code",
   "execution_count": 8,
   "id": "4069ec32",
   "metadata": {},
   "outputs": [],
   "source": [
    "test_vecs = changeVecs(test_words, fastText, line_max=79)"
   ]
  },
  {
   "cell_type": "code",
   "execution_count": 9,
   "id": "075eea26",
   "metadata": {},
   "outputs": [
    {
     "name": "stdout",
     "output_type": "stream",
     "text": [
      "f_type: cnn\n",
      "f_type: cnn\n",
      "f_type: cnn\n",
      "build text score model:\n",
      "use outs: ['s', 'ps', 'po', 'no', 'to']\n",
      "build evaluate model:\n",
      "use outs: ['to', 'po', 'tpo']\n",
      "build conv vectors out:\n",
      "use outs: ['c']\n",
      "build text score model:\n",
      "use outs: ['s', 'ps', 'po', 'no', 'to']\n",
      "build evaluate model:\n",
      "use outs: ['to', 'po', 'tpo']\n",
      "build conv vectors out:\n",
      "use outs: ['c']\n"
     ]
    }
   ],
   "source": [
    "testModel = SeqTheta2(in_shape=test_vecs.shape[1:], out_shape=test_vecs.shape[1])\n",
    "# if you want to use our pretrained models:\n",
    "testModel.load_models('./SATG_pretrained_models/seqtheta3-new-fasttext-cn.model')"
   ]
  },
  {
   "cell_type": "code",
   "execution_count": 10,
   "id": "a0b7c6d2",
   "metadata": {},
   "outputs": [
    {
     "name": "stdout",
     "output_type": "stream",
     "text": [
      "1/1 [==============================] - 3s 3s/step\n",
      "words score:\n"
     ]
    },
    {
     "data": {
      "text/html": [
       "<table>\n",
       "<tbody>\n",
       "<tr><td>Words:</td><td style=\"text-align: right;\">2014     </td><td>年     </td><td>和      </td><td style=\"text-align: right;\">2015     </td><td>年     </td><td>报告   </td><td>的      </td><td>bisonal</td><td>变体  </td><td>在    </td><td>c2     </td><td>中    </td><td>使用    </td><td>了      </td><td>一个    </td><td>简单   </td><td>的      </td><td>xor    </td><td>密码   </td><td>。      </td><td>一些   </td><td>bisonal</td><td>样本   </td><td>用     </td><td>rc4    </td><td>加密   </td><td>c2     </td><td>通信   </td><td>。      </td></tr>\n",
       "<tr><td>Score:</td><td style=\"text-align: right;\">  -4.6376</td><td>-7.9106</td><td>-12.7448</td><td style=\"text-align: right;\">  -4.6158</td><td>-7.9106</td><td>-4.4181</td><td>-16.8811</td><td>-4.5591</td><td>-6.591</td><td>-11.86</td><td>-4.5812</td><td>-9.669</td><td>-13.3025</td><td>-12.3278</td><td>-12.9407</td><td>-5.3558</td><td>-16.8811</td><td>-4.5879</td><td>-4.5582</td><td>-12.6032</td><td>-8.6173</td><td>-4.5591</td><td>-4.4313</td><td>-9.3852</td><td>-4.3902</td><td>-4.5633</td><td>-4.5812</td><td>-4.5794</td><td>-12.6032</td></tr>\n",
       "<tr><td>Sigma:</td><td style=\"text-align: right;\">   0.5707</td><td>0.0    </td><td>0.0     </td><td style=\"text-align: right;\">   0.5899</td><td>0.0    </td><td>0.7462 </td><td>0.0     </td><td>0.6385 </td><td>0.0011</td><td>0.0   </td><td>0.6198 </td><td>0.0   </td><td>0.0     </td><td>0.0     </td><td>0.0     </td><td>0.0901 </td><td>0.0     </td><td>0.6141 </td><td>0.6392 </td><td>0.0     </td><td>0.0    </td><td>0.6385 </td><td>0.7371 </td><td>0.0    </td><td>0.7649 </td><td>0.6349 </td><td>0.6198 </td><td>0.6213 </td><td>0.0     </td></tr>\n",
       "</tbody>\n",
       "</table>"
      ],
      "text/plain": [
       "<IPython.core.display.HTML object>"
      ]
     },
     "metadata": {},
     "output_type": "display_data"
    },
    {
     "name": "stdout",
     "output_type": "stream",
     "text": [
      "ttp predict:\n",
      "f(X+): []\n",
      "f(X): ['T1573-0.6392']\n"
     ]
    },
    {
     "data": {
      "text/html": [
       "<table>\n",
       "<tbody>\n",
       "<tr><td>TTP Lable:</td><td>T1220</td><td>T1132</td><td>T1204</td><td>T1585</td><td>T1485</td><td>T1008</td><td>T1040 </td><td>T1496</td><td>T1437</td><td>T1410</td><td>T1218</td><td>T1025</td><td>T1205</td><td>T1041</td><td>T1446</td><td>T1555</td><td>T1560 </td><td>T1577</td><td>T1074</td><td>T1080</td><td>T1200</td><td>T1489</td><td>T1491</td><td>T1012</td><td>T1583</td><td>T1516</td><td>T1407</td><td>T1484</td><td>T1055</td><td>T1438</td><td>T1517</td><td>T1112</td><td>T1430</td><td>T1552</td><td>T1072</td><td>T1409</td><td>T1400</td><td>T1187</td><td>T1001 </td><td>T1052</td><td>T1518</td><td>T1203</td><td>T1521</td><td>T1554</td><td>T1587</td><td>T1528</td><td>T1547</td><td>T1413</td><td>T1499</td><td>T1558 </td><td>T1135</td><td>T1102 </td><td>T1119</td><td>T1507</td><td>T1571</td><td>T1570</td><td>T1195</td><td>T1557</td><td>T1543</td><td>T1562</td><td>T1201</td><td>T1114</td><td>T1486</td><td>T1480</td><td>T1490</td><td>T1140</td><td>T1420</td><td>T1512</td><td>T1542</td><td>T1020</td><td>T1090</td><td>T1452</td><td>T1046</td><td>T1414</td><td>T1120</td><td>T1213</td><td>T1217</td><td>T1474</td><td>T1402</td><td>T1458</td><td>T1003</td><td>T1417</td><td>T1401</td><td>T1129</td><td>T1534</td><td>T1083</td><td>T1539</td><td>T1037</td><td>T1071 </td><td>T1433</td><td>T1564</td><td>T1411</td><td>T1509</td><td>T1011</td><td>T1540</td><td>T1541</td><td>T1059</td><td>T1211</td><td>T1115</td><td>T1016</td><td>T1027 </td><td>T1398</td><td>T1418</td><td>T1030</td><td>T1010</td><td>T1561</td><td>T1199</td><td>T1189</td><td>T1482</td><td>T1559</td><td>T1098</td><td>T1436</td><td>T1222</td><td>T1447</td><td>T1124</td><td>T1007</td><td>T1053</td><td>T1057</td><td>T1105</td><td>T1576</td><td>T1216</td><td>T1565</td><td>T1113</td><td>T1432</td><td>T1125</td><td>T1498</td><td>T1185</td><td>T1197</td><td>T1406</td><td>T1505</td><td>T1137</td><td>T1497</td><td>T1574</td><td>T1588</td><td>T1036 </td><td>T1092</td><td>T1601</td><td>T1219</td><td>T1033 </td><td>T1422</td><td>T1444</td><td>T1070</td><td>T1520</td><td>T1569</td><td>T1018</td><td>T1039</td><td>T1568</td><td>T1190</td><td>T1456</td><td>T1471</td><td>T1068</td><td>T1529</td><td>T1106</td><td>T1544</td><td>T1475</td><td>T1056</td><td>T1531</td><td>T1563</td><td>T1048</td><td>T1082</td><td>T1581</td><td>T1556 </td><td>T1550</td><td>T1584</td><td>T1123</td><td>T1513</td><td>T1533</td><td>T1567</td><td>T1087</td><td>T1005</td><td>T1111</td><td>T1546</td><td>T1133</td><td>T1207</td><td>T1428</td><td>T1021</td><td>T1448</td><td>T1047</td><td>T1136</td><td>T1478</td><td>T1481</td><td>T1566 </td><td>T1426</td><td>T1110 </td><td>T1582</td><td>T1029</td><td>T1404</td><td>T1548</td><td>T1412</td><td>T1523</td><td>T1127</td><td>T1472</td><td>T1091</td><td>T1014</td><td>T1104</td><td>T1221</td><td>T1424</td><td>T1176</td><td>T1202</td><td>T1069</td><td>T1553 </td><td>T1575</td><td>T1573 </td><td>T1210</td><td>T1508</td><td>T1477</td><td>T1476</td><td>T1532</td><td>T1078</td><td>T1134</td><td>T1095</td><td>T1572 </td><td>T1429</td><td>T1435</td><td>T1049</td><td>T1579</td></tr>\n",
       "<tr><td>f(X+):    </td><td>0.0  </td><td>0.0  </td><td>0.0  </td><td>0.0  </td><td>0.0  </td><td>0.0  </td><td>0.0001</td><td>0.0  </td><td>0.0  </td><td>0.0  </td><td>0.0  </td><td>0.0  </td><td>0.0  </td><td>0.0  </td><td>0.0  </td><td>0.0  </td><td>0.0803</td><td>0.0  </td><td>0.0  </td><td>0.0  </td><td>0.0  </td><td>0.0  </td><td>0.0  </td><td>0.0  </td><td>0.0  </td><td>0.0  </td><td>0.0  </td><td>0.0  </td><td>0.0  </td><td>0.0  </td><td>0.0  </td><td>0.0  </td><td>0.0  </td><td>0.0  </td><td>0.0  </td><td>0.0  </td><td>0.0  </td><td>0.0  </td><td>0.0066</td><td>0.0  </td><td>0.0  </td><td>0.0  </td><td>0.0  </td><td>0.0  </td><td>0.0  </td><td>0.0  </td><td>0.0  </td><td>0.0  </td><td>0.0  </td><td>0.0001</td><td>0.0  </td><td>0.0002</td><td>0.0  </td><td>0.0  </td><td>0.0  </td><td>0.0  </td><td>0.0  </td><td>0.0  </td><td>0.0  </td><td>0.0  </td><td>0.0  </td><td>0.0  </td><td>0.0  </td><td>0.0  </td><td>0.0  </td><td>0.0  </td><td>0.0  </td><td>0.0  </td><td>0.0  </td><td>0.0  </td><td>0.0  </td><td>0.0  </td><td>0.0  </td><td>0.0  </td><td>0.0  </td><td>0.0  </td><td>0.0  </td><td>0.0  </td><td>0.0  </td><td>0.0  </td><td>0.0  </td><td>0.0  </td><td>0.0  </td><td>0.0  </td><td>0.0  </td><td>0.0  </td><td>0.0  </td><td>0.0  </td><td>0.0008</td><td>0.0  </td><td>0.0  </td><td>0.0  </td><td>0.0  </td><td>0.0  </td><td>0.0  </td><td>0.0  </td><td>0.0  </td><td>0.0  </td><td>0.0  </td><td>0.0  </td><td>0.0038</td><td>0.0  </td><td>0.0  </td><td>0.0  </td><td>0.0  </td><td>0.0  </td><td>0.0  </td><td>0.0  </td><td>0.0  </td><td>0.0  </td><td>0.0  </td><td>0.0  </td><td>0.0  </td><td>0.0  </td><td>0.0  </td><td>0.0  </td><td>0.0  </td><td>0.0  </td><td>0.0  </td><td>0.0  </td><td>0.0  </td><td>0.0  </td><td>0.0  </td><td>0.0  </td><td>0.0  </td><td>0.0  </td><td>0.0  </td><td>0.0  </td><td>0.0  </td><td>0.0  </td><td>0.0  </td><td>0.0  </td><td>0.0  </td><td>0.0  </td><td>0.0001</td><td>0.0  </td><td>0.0  </td><td>0.0  </td><td>0.0001</td><td>0.0  </td><td>0.0  </td><td>0.0  </td><td>0.0  </td><td>0.0  </td><td>0.0  </td><td>0.0  </td><td>0.0  </td><td>0.0  </td><td>0.0  </td><td>0.0  </td><td>0.0  </td><td>0.0  </td><td>0.0  </td><td>0.0  </td><td>0.0  </td><td>0.0  </td><td>0.0  </td><td>0.0  </td><td>0.0  </td><td>0.0  </td><td>0.0  </td><td>0.0002</td><td>0.0  </td><td>0.0  </td><td>0.0  </td><td>0.0  </td><td>0.0  </td><td>0.0  </td><td>0.0  </td><td>0.0  </td><td>0.0  </td><td>0.0  </td><td>0.0  </td><td>0.0  </td><td>0.0  </td><td>0.0  </td><td>0.0  </td><td>0.0  </td><td>0.0  </td><td>0.0  </td><td>0.0  </td><td>0.0001</td><td>0.0  </td><td>0.0004</td><td>0.0  </td><td>0.0  </td><td>0.0  </td><td>0.0  </td><td>0.0  </td><td>0.0  </td><td>0.0  </td><td>0.0  </td><td>0.0  </td><td>0.0  </td><td>0.0  </td><td>0.0  </td><td>0.0  </td><td>0.0  </td><td>0.0  </td><td>0.0  </td><td>0.0025</td><td>0.0  </td><td>0.0778</td><td>0.0  </td><td>0.0  </td><td>0.0  </td><td>0.0  </td><td>0.0  </td><td>0.0  </td><td>0.0  </td><td>0.0  </td><td>0.0   </td><td>0.0  </td><td>0.0  </td><td>0.0  </td><td>0.0  </td></tr>\n",
       "<tr><td>f(X):     </td><td>0.0  </td><td>0.0  </td><td>0.0  </td><td>0.0  </td><td>0.0  </td><td>0.0  </td><td>0.0001</td><td>0.0  </td><td>0.0  </td><td>0.0  </td><td>0.0  </td><td>0.0  </td><td>0.0  </td><td>0.0  </td><td>0.0  </td><td>0.0  </td><td>0.048 </td><td>0.0  </td><td>0.0  </td><td>0.0  </td><td>0.0  </td><td>0.0  </td><td>0.0  </td><td>0.0  </td><td>0.0  </td><td>0.0  </td><td>0.0  </td><td>0.0  </td><td>0.0  </td><td>0.0  </td><td>0.0  </td><td>0.0  </td><td>0.0  </td><td>0.0  </td><td>0.0  </td><td>0.0  </td><td>0.0  </td><td>0.0  </td><td>0.0042</td><td>0.0  </td><td>0.0  </td><td>0.0  </td><td>0.0  </td><td>0.0  </td><td>0.0  </td><td>0.0  </td><td>0.0  </td><td>0.0  </td><td>0.0  </td><td>0.0001</td><td>0.0  </td><td>0.0002</td><td>0.0  </td><td>0.0  </td><td>0.0  </td><td>0.0  </td><td>0.0  </td><td>0.0  </td><td>0.0  </td><td>0.0  </td><td>0.0  </td><td>0.0  </td><td>0.0  </td><td>0.0  </td><td>0.0  </td><td>0.0  </td><td>0.0  </td><td>0.0  </td><td>0.0  </td><td>0.0  </td><td>0.0  </td><td>0.0  </td><td>0.0  </td><td>0.0  </td><td>0.0  </td><td>0.0  </td><td>0.0  </td><td>0.0  </td><td>0.0  </td><td>0.0  </td><td>0.0  </td><td>0.0  </td><td>0.0  </td><td>0.0  </td><td>0.0  </td><td>0.0  </td><td>0.0  </td><td>0.0  </td><td>0.0001</td><td>0.0  </td><td>0.0  </td><td>0.0  </td><td>0.0  </td><td>0.0  </td><td>0.0  </td><td>0.0  </td><td>0.0  </td><td>0.0  </td><td>0.0  </td><td>0.0  </td><td>0.0014</td><td>0.0  </td><td>0.0  </td><td>0.0  </td><td>0.0  </td><td>0.0  </td><td>0.0  </td><td>0.0  </td><td>0.0  </td><td>0.0  </td><td>0.0  </td><td>0.0  </td><td>0.0  </td><td>0.0  </td><td>0.0  </td><td>0.0  </td><td>0.0  </td><td>0.0  </td><td>0.0  </td><td>0.0  </td><td>0.0  </td><td>0.0  </td><td>0.0  </td><td>0.0  </td><td>0.0  </td><td>0.0  </td><td>0.0  </td><td>0.0  </td><td>0.0  </td><td>0.0  </td><td>0.0  </td><td>0.0  </td><td>0.0  </td><td>0.0  </td><td>0.0   </td><td>0.0  </td><td>0.0  </td><td>0.0  </td><td>0.0001</td><td>0.0  </td><td>0.0  </td><td>0.0  </td><td>0.0  </td><td>0.0  </td><td>0.0  </td><td>0.0  </td><td>0.0  </td><td>0.0  </td><td>0.0  </td><td>0.0  </td><td>0.0  </td><td>0.0  </td><td>0.0  </td><td>0.0  </td><td>0.0  </td><td>0.0  </td><td>0.0  </td><td>0.0  </td><td>0.0  </td><td>0.0  </td><td>0.0  </td><td>0.0001</td><td>0.0  </td><td>0.0  </td><td>0.0  </td><td>0.0  </td><td>0.0  </td><td>0.0  </td><td>0.0  </td><td>0.0  </td><td>0.0  </td><td>0.0  </td><td>0.0  </td><td>0.0  </td><td>0.0  </td><td>0.0  </td><td>0.0  </td><td>0.0  </td><td>0.0  </td><td>0.0  </td><td>0.0  </td><td>0.0   </td><td>0.0  </td><td>0.001 </td><td>0.0  </td><td>0.0  </td><td>0.0  </td><td>0.0  </td><td>0.0  </td><td>0.0  </td><td>0.0  </td><td>0.0  </td><td>0.0  </td><td>0.0  </td><td>0.0  </td><td>0.0  </td><td>0.0  </td><td>0.0  </td><td>0.0  </td><td>0.0  </td><td>0.0015</td><td>0.0  </td><td>0.6392</td><td>0.0  </td><td>0.0  </td><td>0.0  </td><td>0.0  </td><td>0.0  </td><td>0.0  </td><td>0.0  </td><td>0.0  </td><td>0.0001</td><td>0.0  </td><td>0.0  </td><td>0.0  </td><td>0.0  </td></tr>\n",
       "</tbody>\n",
       "</table>"
      ],
      "text/plain": [
       "<IPython.core.display.HTML object>"
      ]
     },
     "metadata": {},
     "output_type": "display_data"
    }
   ],
   "source": [
    "testModel.print_predict(test_vecs, test_words, technique_labels)"
   ]
  },
  {
   "attachments": {},
   "cell_type": "markdown",
   "id": "b2eba3b7",
   "metadata": {},
   "source": [
    "## Dealing with English"
   ]
  },
  {
   "cell_type": "code",
   "execution_count": 11,
   "id": "10d22a3c",
   "metadata": {},
   "outputs": [
    {
     "name": "stderr",
     "output_type": "stream",
     "text": [
      "<ipython-input-11-21aa432b18fd>:1: DeprecationWarning: Call to deprecated `load_fasttext_format` (use load_facebook_vectors (to use pretrained embeddings) or load_facebook_model (to continue training with the loaded full model, more RAM) instead).\n",
      "  fastText = FastText.load_fasttext_format('./TTP_FastText/ttp_fasttext_model.bin')\n"
     ]
    }
   ],
   "source": [
    "fastText = FastText.load_fasttext_format('./_data/ttp_fasttext_model.bin')"
   ]
  },
  {
   "cell_type": "code",
   "execution_count": 12,
   "id": "9ed931fd",
   "metadata": {},
   "outputs": [],
   "source": [
    "test_text = \"\"\"The encoded VBScript uses a file extension which is not associated, by default, as being a VBScript file.\n",
    "The extensions .domx and .lgx have been observed. The shellcode is responsible for adding a new file\n",
    "association for the file extension which specifies that they should be interpreted as an encoded VBScript.\n",
    "Finally, the shellcode executes the encoded VBScript file which will extract the encrypted files from the\n",
    "binary blob, show the decoy document (if there is one), and execute the malware.\"\"\""
   ]
  },
  {
   "cell_type": "code",
   "execution_count": 13,
   "id": "76bb3a99",
   "metadata": {},
   "outputs": [],
   "source": [
    "test_words = getWords(test_text, line_max=80)\n",
    "test_vecs = changeVecs(test_words, fastText, line_max=80)"
   ]
  },
  {
   "cell_type": "code",
   "execution_count": 15,
   "id": "530511b6",
   "metadata": {},
   "outputs": [
    {
     "name": "stdout",
     "output_type": "stream",
     "text": [
      "f_type: cnn\n",
      "f_type: cnn\n",
      "f_type: cnn\n",
      "build text score model:\n",
      "use outs: ['s', 'ps', 'po', 'no', 'to']\n",
      "build evaluate model:\n",
      "use outs: ['to', 'po', 'tpo']\n",
      "build conv vectors out:\n",
      "use outs: ['c']\n",
      "build text score model:\n",
      "use outs: ['s', 'ps', 'po', 'no', 'to']\n",
      "build evaluate model:\n",
      "use outs: ['to', 'po', 'tpo']\n",
      "build conv vectors out:\n",
      "use outs: ['c']\n"
     ]
    }
   ],
   "source": [
    "testModel = SeqTheta2(in_shape=test_vecs.shape[1:], out_shape=test_vecs.shape[1])\n",
    "# if you want to use our pretrained models:\n",
    "testModel.load_models('./SATG_pretrained_models/seqtheta2-new-fasttext.model')"
   ]
  },
  {
   "cell_type": "code",
   "execution_count": 16,
   "id": "57b83b5e",
   "metadata": {
    "scrolled": true
   },
   "outputs": [
    {
     "name": "stdout",
     "output_type": "stream",
     "text": [
      "1/1 [==============================] - 0s 332ms/step\n",
      "words score:\n"
     ]
    },
    {
     "data": {
      "text/html": [
       "<table>\n",
       "<tbody>\n",
       "<tr><td>Words:</td><td>the    </td><td>       </td><td>encoded</td><td>       </td><td>vbscript</td><td>       </td><td>uses   </td><td>       </td><td>a     </td><td>       </td><td>file   </td><td>       </td><td>extension</td><td>       </td><td>which  </td><td>       </td><td>is      </td><td>       </td><td>not   </td><td>       </td><td>associated</td><td>,      </td><td>       </td><td>by     </td><td>       </td><td>default</td><td>,      </td><td>       </td><td>as     </td><td>       </td><td>being  </td><td>       </td><td>a     </td><td>       </td><td>vbscript</td><td>       </td><td>file   </td><td>.      </td></tr>\n",
       "<tr><td>Score:</td><td>-7.0489</td><td>-2.9225</td><td>-2.9272</td><td>-2.9225</td><td>-2.7812 </td><td>-2.9225</td><td>-3.7225</td><td>-2.9225</td><td>-15.23</td><td>-2.9225</td><td>-2.9534</td><td>-2.9225</td><td>-2.9855  </td><td>-2.9225</td><td>-3.7532</td><td>-2.9225</td><td>-13.9996</td><td>-2.9225</td><td>-4.939</td><td>-2.9225</td><td>-3.1921   </td><td>-5.4322</td><td>-2.9225</td><td>-3.3545</td><td>-2.9225</td><td>-2.8743</td><td>-5.4322</td><td>-2.9225</td><td>-9.9225</td><td>-2.9225</td><td>-3.7606</td><td>-2.9225</td><td>-15.23</td><td>-2.9225</td><td>-2.7812 </td><td>-2.9225</td><td>-2.9534</td><td>-2.9619</td></tr>\n",
       "<tr><td>Sigma:</td><td>0.0    </td><td>0.7426 </td><td>0.7398 </td><td>0.7426 </td><td>0.8184  </td><td>0.7426 </td><td>0.1875 </td><td>0.7426 </td><td>0.0   </td><td>0.7426 </td><td>0.7235 </td><td>0.7426 </td><td>0.7028   </td><td>0.7426 </td><td>0.1732 </td><td>0.7426 </td><td>0.0     </td><td>0.7426 </td><td>0.0049</td><td>0.7426 </td><td>0.5518    </td><td>0.001  </td><td>0.7426 </td><td>0.4245 </td><td>0.7426 </td><td>0.7706 </td><td>0.001  </td><td>0.7426 </td><td>0.0    </td><td>0.7426 </td><td>0.1698 </td><td>0.7426 </td><td>0.0   </td><td>0.7426 </td><td>0.8184  </td><td>0.7426 </td><td>0.7235 </td><td>0.7181 </td></tr>\n",
       "</tbody>\n",
       "</table>"
      ],
      "text/plain": [
       "<IPython.core.display.HTML object>"
      ]
     },
     "metadata": {},
     "output_type": "display_data"
    },
    {
     "name": "stdout",
     "output_type": "stream",
     "text": [
      "ttp predict:\n",
      "f(X+): ['T1027-0.6214']\n",
      "f(X): ['T1027-0.6126']\n"
     ]
    },
    {
     "data": {
      "text/html": [
       "<table>\n",
       "<tbody>\n",
       "<tr><td>TTP Lable:</td><td>T1220</td><td>T1132 </td><td>T1204</td><td>T1585</td><td>T1485</td><td>T1008</td><td>T1040</td><td>T1496</td><td>T1437</td><td>T1410</td><td>T1218</td><td>T1025</td><td>T1205 </td><td>T1041</td><td>T1446</td><td>T1555</td><td>T1560</td><td>T1577</td><td>T1074</td><td>T1080</td><td>T1200</td><td>T1489 </td><td>T1491</td><td>T1012</td><td>T1583</td><td>T1516</td><td>T1407</td><td>T1484</td><td>T1055</td><td>T1438</td><td>T1517</td><td>T1112 </td><td>T1430</td><td>T1552</td><td>T1072 </td><td>T1409</td><td>T1400</td><td>T1187</td><td>T1001 </td><td>T1052</td><td>T1518</td><td>T1203</td><td>T1521</td><td>T1554 </td><td>T1587</td><td>T1528</td><td>T1547 </td><td>T1413</td><td>T1499</td><td>T1558</td><td>T1135</td><td>T1102</td><td>T1119</td><td>T1507</td><td>T1571</td><td>T1570</td><td>T1195</td><td>T1557</td><td>T1543 </td><td>T1562</td><td>T1201</td><td>T1114</td><td>T1486</td><td>T1480 </td><td>T1490</td><td>T1140 </td><td>T1420</td><td>T1512</td><td>T1542</td><td>T1020</td><td>T1090</td><td>T1452</td><td>T1046</td><td>T1414</td><td>T1120</td><td>T1213</td><td>T1217</td><td>T1474</td><td>T1402</td><td>T1458</td><td>T1003</td><td>T1417</td><td>T1401</td><td>T1129</td><td>T1534</td><td>T1083 </td><td>T1539</td><td>T1037 </td><td>T1071</td><td>T1433</td><td>T1564 </td><td>T1411</td><td>T1509</td><td>T1011 </td><td>T1540</td><td>T1541</td><td>T1059 </td><td>T1211</td><td>T1115</td><td>T1016</td><td>T1027 </td><td>T1398</td><td>T1418</td><td>T1030</td><td>T1010</td><td>T1561</td><td>T1199</td><td>T1189</td><td>T1482</td><td>T1559 </td><td>T1098</td><td>T1436</td><td>T1222</td><td>T1447</td><td>T1124</td><td>T1007</td><td>T1053</td><td>T1057 </td><td>T1105 </td><td>T1576</td><td>T1216 </td><td>T1565</td><td>T1113</td><td>T1432</td><td>T1125</td><td>T1498</td><td>T1185</td><td>T1197 </td><td>T1406</td><td>T1505</td><td>T1137 </td><td>T1497 </td><td>T1574</td><td>T1588</td><td>T1036</td><td>T1092</td><td>T1601</td><td>T1219</td><td>T1033</td><td>T1422</td><td>T1444</td><td>T1070 </td><td>T1520</td><td>T1569 </td><td>T1018</td><td>T1039</td><td>T1568</td><td>T1190 </td><td>T1456</td><td>T1471</td><td>T1068</td><td>T1529</td><td>T1106 </td><td>T1544</td><td>T1475</td><td>T1056</td><td>T1531</td><td>T1563</td><td>T1048</td><td>T1082 </td><td>T1581</td><td>T1556 </td><td>T1550</td><td>T1584</td><td>T1123</td><td>T1513</td><td>T1533</td><td>T1567</td><td>T1087</td><td>T1005</td><td>T1111</td><td>T1546 </td><td>T1133</td><td>T1207</td><td>T1428</td><td>T1021</td><td>T1448</td><td>T1047</td><td>T1136</td><td>T1478</td><td>T1481</td><td>T1566</td><td>T1426</td><td>T1110</td><td>T1582</td><td>T1029</td><td>T1404</td><td>T1548</td><td>T1412</td><td>T1523</td><td>T1127</td><td>T1472</td><td>T1091</td><td>T1014</td><td>T1104 </td><td>T1221</td><td>T1424</td><td>T1176</td><td>T1202 </td><td>T1069</td><td>T1553</td><td>T1575</td><td>T1573 </td><td>T1210</td><td>T1508</td><td>T1477</td><td>T1476</td><td>T1532</td><td>T1078</td><td>T1134</td><td>T1095 </td><td>T1572</td><td>T1429</td><td>T1435</td><td>T1049</td><td>T1579</td></tr>\n",
       "<tr><td>f(X+):    </td><td>0.0  </td><td>0.0001</td><td>0.0  </td><td>0.0  </td><td>0.0  </td><td>0.0  </td><td>0.0  </td><td>0.0  </td><td>0.0  </td><td>0.0  </td><td>0.0  </td><td>0.0  </td><td>0.0016</td><td>0.0  </td><td>0.0  </td><td>0.0  </td><td>0.0  </td><td>0.0  </td><td>0.0  </td><td>0.0  </td><td>0.0  </td><td>0.0008</td><td>0.0  </td><td>0.0  </td><td>0.0  </td><td>0.0  </td><td>0.0  </td><td>0.0  </td><td>0.0  </td><td>0.0  </td><td>0.0  </td><td>0.0003</td><td>0.0  </td><td>0.0  </td><td>0.0001</td><td>0.0  </td><td>0.0  </td><td>0.0  </td><td>0.0001</td><td>0.0  </td><td>0.0  </td><td>0.0  </td><td>0.0  </td><td>0.0001</td><td>0.0  </td><td>0.0  </td><td>0.0   </td><td>0.0  </td><td>0.0  </td><td>0.0  </td><td>0.0  </td><td>0.0  </td><td>0.0  </td><td>0.0  </td><td>0.0  </td><td>0.0  </td><td>0.0  </td><td>0.0  </td><td>0.0002</td><td>0.0  </td><td>0.0  </td><td>0.0  </td><td>0.0  </td><td>0.0013</td><td>0.0  </td><td>0.0011</td><td>0.0  </td><td>0.0  </td><td>0.0  </td><td>0.0  </td><td>0.0  </td><td>0.0  </td><td>0.0  </td><td>0.0  </td><td>0.0  </td><td>0.0  </td><td>0.0  </td><td>0.0  </td><td>0.0  </td><td>0.0  </td><td>0.0  </td><td>0.0  </td><td>0.0  </td><td>0.0  </td><td>0.0  </td><td>0.0004</td><td>0.0  </td><td>0.0022</td><td>0.0  </td><td>0.0  </td><td>0.0   </td><td>0.0  </td><td>0.0  </td><td>0.0028</td><td>0.0  </td><td>0.0  </td><td>0.0044</td><td>0.0  </td><td>0.0  </td><td>0.0  </td><td>0.6214</td><td>0.0  </td><td>0.0  </td><td>0.0  </td><td>0.0  </td><td>0.0  </td><td>0.0  </td><td>0.0  </td><td>0.0  </td><td>0.0001</td><td>0.0  </td><td>0.0  </td><td>0.0  </td><td>0.0  </td><td>0.0  </td><td>0.0  </td><td>0.0  </td><td>0.0001</td><td>0.0   </td><td>0.0  </td><td>0.0002</td><td>0.0  </td><td>0.0  </td><td>0.0  </td><td>0.0  </td><td>0.0  </td><td>0.0  </td><td>0.0003</td><td>0.0  </td><td>0.0  </td><td>0.0004</td><td>0.0009</td><td>0.0  </td><td>0.0  </td><td>0.0  </td><td>0.0  </td><td>0.0  </td><td>0.0  </td><td>0.0  </td><td>0.0  </td><td>0.0  </td><td>0.0   </td><td>0.0  </td><td>0.0006</td><td>0.0  </td><td>0.0  </td><td>0.0  </td><td>0.0004</td><td>0.0  </td><td>0.0  </td><td>0.0  </td><td>0.0  </td><td>0.0002</td><td>0.0  </td><td>0.0  </td><td>0.0  </td><td>0.0  </td><td>0.0  </td><td>0.0  </td><td>0.0066</td><td>0.0  </td><td>0.0001</td><td>0.0  </td><td>0.0  </td><td>0.0  </td><td>0.0  </td><td>0.0  </td><td>0.0  </td><td>0.0  </td><td>0.0  </td><td>0.0  </td><td>0.0002</td><td>0.0  </td><td>0.0  </td><td>0.0  </td><td>0.0  </td><td>0.0  </td><td>0.0  </td><td>0.0  </td><td>0.0  </td><td>0.0  </td><td>0.0  </td><td>0.0  </td><td>0.0  </td><td>0.0  </td><td>0.0  </td><td>0.0  </td><td>0.0  </td><td>0.0  </td><td>0.0  </td><td>0.0  </td><td>0.0  </td><td>0.0  </td><td>0.0  </td><td>0.0003</td><td>0.0  </td><td>0.0  </td><td>0.0  </td><td>0.0028</td><td>0.0  </td><td>0.0  </td><td>0.0  </td><td>0.0   </td><td>0.0  </td><td>0.0  </td><td>0.0  </td><td>0.0  </td><td>0.0  </td><td>0.0  </td><td>0.0  </td><td>0.0002</td><td>0.0  </td><td>0.0  </td><td>0.0  </td><td>0.0  </td><td>0.0  </td></tr>\n",
       "<tr><td>f(X):     </td><td>0.0  </td><td>0.0014</td><td>0.0  </td><td>0.0  </td><td>0.0  </td><td>0.0  </td><td>0.0  </td><td>0.0  </td><td>0.0  </td><td>0.0  </td><td>0.0  </td><td>0.0  </td><td>0.0004</td><td>0.0  </td><td>0.0  </td><td>0.0  </td><td>0.0  </td><td>0.0  </td><td>0.0  </td><td>0.0  </td><td>0.0  </td><td>0.0   </td><td>0.0  </td><td>0.0  </td><td>0.0  </td><td>0.0  </td><td>0.0  </td><td>0.0  </td><td>0.0  </td><td>0.0  </td><td>0.0  </td><td>0.0053</td><td>0.0  </td><td>0.0  </td><td>0.0   </td><td>0.0  </td><td>0.0  </td><td>0.0  </td><td>0.0013</td><td>0.0  </td><td>0.0  </td><td>0.0  </td><td>0.0  </td><td>0.0   </td><td>0.0  </td><td>0.0  </td><td>0.0003</td><td>0.0  </td><td>0.0  </td><td>0.0  </td><td>0.0  </td><td>0.0  </td><td>0.0  </td><td>0.0  </td><td>0.0  </td><td>0.0  </td><td>0.0  </td><td>0.0  </td><td>0.0002</td><td>0.0  </td><td>0.0  </td><td>0.0  </td><td>0.0  </td><td>0.0002</td><td>0.0  </td><td>0.0013</td><td>0.0  </td><td>0.0  </td><td>0.0  </td><td>0.0  </td><td>0.0  </td><td>0.0  </td><td>0.0  </td><td>0.0  </td><td>0.0  </td><td>0.0  </td><td>0.0  </td><td>0.0  </td><td>0.0  </td><td>0.0  </td><td>0.0  </td><td>0.0  </td><td>0.0  </td><td>0.0  </td><td>0.0  </td><td>0.0001</td><td>0.0  </td><td>0.0009</td><td>0.0  </td><td>0.0  </td><td>0.0001</td><td>0.0  </td><td>0.0  </td><td>0.0005</td><td>0.0  </td><td>0.0  </td><td>0.0004</td><td>0.0  </td><td>0.0  </td><td>0.0  </td><td>0.6126</td><td>0.0  </td><td>0.0  </td><td>0.0  </td><td>0.0  </td><td>0.0  </td><td>0.0  </td><td>0.0  </td><td>0.0  </td><td>0.0   </td><td>0.0  </td><td>0.0  </td><td>0.0  </td><td>0.0  </td><td>0.0  </td><td>0.0  </td><td>0.0  </td><td>0.0   </td><td>0.0001</td><td>0.0  </td><td>0.0001</td><td>0.0  </td><td>0.0  </td><td>0.0  </td><td>0.0  </td><td>0.0  </td><td>0.0  </td><td>0.0002</td><td>0.0  </td><td>0.0  </td><td>0.0002</td><td>0.0   </td><td>0.0  </td><td>0.0  </td><td>0.0  </td><td>0.0  </td><td>0.0  </td><td>0.0  </td><td>0.0  </td><td>0.0  </td><td>0.0  </td><td>0.0001</td><td>0.0  </td><td>0.0001</td><td>0.0  </td><td>0.0  </td><td>0.0  </td><td>0.0   </td><td>0.0  </td><td>0.0  </td><td>0.0  </td><td>0.0  </td><td>0.0001</td><td>0.0  </td><td>0.0  </td><td>0.0  </td><td>0.0  </td><td>0.0  </td><td>0.0  </td><td>0.0003</td><td>0.0  </td><td>0.0001</td><td>0.0  </td><td>0.0  </td><td>0.0  </td><td>0.0  </td><td>0.0  </td><td>0.0  </td><td>0.0  </td><td>0.0  </td><td>0.0  </td><td>0.0007</td><td>0.0  </td><td>0.0  </td><td>0.0  </td><td>0.0  </td><td>0.0  </td><td>0.0  </td><td>0.0  </td><td>0.0  </td><td>0.0  </td><td>0.0  </td><td>0.0  </td><td>0.0  </td><td>0.0  </td><td>0.0  </td><td>0.0  </td><td>0.0  </td><td>0.0  </td><td>0.0  </td><td>0.0  </td><td>0.0  </td><td>0.0  </td><td>0.0  </td><td>0.0001</td><td>0.0  </td><td>0.0  </td><td>0.0  </td><td>0.0014</td><td>0.0  </td><td>0.0  </td><td>0.0  </td><td>0.0001</td><td>0.0  </td><td>0.0  </td><td>0.0  </td><td>0.0  </td><td>0.0  </td><td>0.0  </td><td>0.0  </td><td>0.0   </td><td>0.0  </td><td>0.0  </td><td>0.0  </td><td>0.0  </td><td>0.0  </td></tr>\n",
       "</tbody>\n",
       "</table>"
      ],
      "text/plain": [
       "<IPython.core.display.HTML object>"
      ]
     },
     "metadata": {},
     "output_type": "display_data"
    },
    {
     "name": "stdout",
     "output_type": "stream",
     "text": [
      "words score:\n"
     ]
    },
    {
     "data": {
      "text/html": [
       "<table>\n",
       "<tbody>\n",
       "<tr><td>Words:</td><td>the    </td><td>       </td><td>extensions</td><td>       </td><td>.      </td><td>domx   </td><td>       </td><td>and    </td><td>       </td><td>.      </td><td>lgx    </td><td>       </td><td>have   </td><td>       </td><td>been  </td><td>       </td><td>observed</td><td>.      </td><td>       </td><td>the    </td><td>       </td><td>shellcode</td><td>       </td><td>is      </td><td>       </td><td>responsible</td><td>       </td><td>for    </td><td>       </td><td>adding </td><td>       </td><td>a     </td><td>       </td><td>new    </td><td>       </td><td>file   </td></tr>\n",
       "<tr><td>Score:</td><td>-7.0489</td><td>-2.9225</td><td>-3.1035   </td><td>-2.9225</td><td>-2.9619</td><td>-2.9942</td><td>-2.9225</td><td>-5.7416</td><td>-2.9225</td><td>-2.9619</td><td>-2.7531</td><td>-2.9225</td><td>-5.8903</td><td>-2.9225</td><td>-5.781</td><td>-2.9225</td><td>-3.0492 </td><td>-2.9619</td><td>-2.9225</td><td>-7.0489</td><td>-2.9225</td><td>-2.9888  </td><td>-2.9225</td><td>-13.9996</td><td>-2.9225</td><td>-2.9961    </td><td>-2.9225</td><td>-6.8501</td><td>-2.9225</td><td>-3.1396</td><td>-2.9225</td><td>-15.23</td><td>-2.9225</td><td>-3.0268</td><td>-2.9225</td><td>-2.9534</td></tr>\n",
       "<tr><td>Sigma:</td><td>0.0    </td><td>0.7262 </td><td>0.5998    </td><td>0.7262 </td><td>0.7008 </td><td>0.679  </td><td>0.7262 </td><td>0.0004 </td><td>0.7262 </td><td>0.7008 </td><td>0.819  </td><td>0.7262 </td><td>0.0002 </td><td>0.7262 </td><td>0.0003</td><td>0.7262 </td><td>0.6402  </td><td>0.7008 </td><td>0.7262 </td><td>0.0    </td><td>0.7262 </td><td>0.6828   </td><td>0.7262 </td><td>0.0     </td><td>0.7262 </td><td>0.6778     </td><td>0.7262 </td><td>0.0    </td><td>0.7262 </td><td>0.5722 </td><td>0.7262 </td><td>0.0   </td><td>0.7262 </td><td>0.6562 </td><td>0.7262 </td><td>0.7064 </td></tr>\n",
       "</tbody>\n",
       "</table>"
      ],
      "text/plain": [
       "<IPython.core.display.HTML object>"
      ]
     },
     "metadata": {},
     "output_type": "display_data"
    },
    {
     "name": "stdout",
     "output_type": "stream",
     "text": [
      "ttp predict:\n",
      "f(X+): []\n",
      "f(X): ['T1543-0.6018']\n"
     ]
    },
    {
     "data": {
      "text/html": [
       "<table>\n",
       "<tbody>\n",
       "<tr><td>TTP Lable:</td><td>T1220 </td><td>T1132</td><td>T1204</td><td>T1585</td><td>T1485 </td><td>T1008</td><td>T1040</td><td>T1496 </td><td>T1437</td><td>T1410</td><td>T1218 </td><td>T1025 </td><td>T1205 </td><td>T1041</td><td>T1446</td><td>T1555</td><td>T1560</td><td>T1577</td><td>T1074 </td><td>T1080</td><td>T1200</td><td>T1489 </td><td>T1491</td><td>T1012</td><td>T1583</td><td>T1516</td><td>T1407</td><td>T1484</td><td>T1055 </td><td>T1438</td><td>T1517</td><td>T1112</td><td>T1430</td><td>T1552</td><td>T1072 </td><td>T1409</td><td>T1400</td><td>T1187</td><td>T1001</td><td>T1052</td><td>T1518</td><td>T1203</td><td>T1521</td><td>T1554</td><td>T1587</td><td>T1528</td><td>T1547</td><td>T1413</td><td>T1499</td><td>T1558</td><td>T1135</td><td>T1102</td><td>T1119 </td><td>T1507</td><td>T1571</td><td>T1570</td><td>T1195</td><td>T1557</td><td>T1543 </td><td>T1562</td><td>T1201</td><td>T1114</td><td>T1486</td><td>T1480 </td><td>T1490 </td><td>T1140 </td><td>T1420</td><td>T1512</td><td>T1542 </td><td>T1020</td><td>T1090</td><td>T1452</td><td>T1046 </td><td>T1414</td><td>T1120</td><td>T1213</td><td>T1217</td><td>T1474</td><td>T1402</td><td>T1458</td><td>T1003</td><td>T1417</td><td>T1401</td><td>T1129 </td><td>T1534</td><td>T1083 </td><td>T1539</td><td>T1037 </td><td>T1071</td><td>T1433</td><td>T1564 </td><td>T1411</td><td>T1509</td><td>T1011 </td><td>T1540</td><td>T1541</td><td>T1059</td><td>T1211</td><td>T1115</td><td>T1016</td><td>T1027 </td><td>T1398</td><td>T1418</td><td>T1030</td><td>T1010</td><td>T1561 </td><td>T1199</td><td>T1189</td><td>T1482</td><td>T1559</td><td>T1098</td><td>T1436</td><td>T1222 </td><td>T1447</td><td>T1124</td><td>T1007</td><td>T1053</td><td>T1057</td><td>T1105 </td><td>T1576</td><td>T1216</td><td>T1565</td><td>T1113 </td><td>T1432</td><td>T1125</td><td>T1498</td><td>T1185</td><td>T1197 </td><td>T1406</td><td>T1505</td><td>T1137</td><td>T1497 </td><td>T1574</td><td>T1588</td><td>T1036 </td><td>T1092 </td><td>T1601</td><td>T1219</td><td>T1033</td><td>T1422</td><td>T1444</td><td>T1070 </td><td>T1520</td><td>T1569 </td><td>T1018</td><td>T1039</td><td>T1568</td><td>T1190</td><td>T1456</td><td>T1471</td><td>T1068</td><td>T1529 </td><td>T1106 </td><td>T1544</td><td>T1475</td><td>T1056</td><td>T1531</td><td>T1563</td><td>T1048</td><td>T1082</td><td>T1581</td><td>T1556</td><td>T1550</td><td>T1584</td><td>T1123</td><td>T1513</td><td>T1533</td><td>T1567</td><td>T1087</td><td>T1005</td><td>T1111</td><td>T1546 </td><td>T1133</td><td>T1207</td><td>T1428</td><td>T1021</td><td>T1448</td><td>T1047</td><td>T1136</td><td>T1478</td><td>T1481</td><td>T1566</td><td>T1426</td><td>T1110</td><td>T1582</td><td>T1029 </td><td>T1404</td><td>T1548</td><td>T1412</td><td>T1523</td><td>T1127 </td><td>T1472</td><td>T1091 </td><td>T1014</td><td>T1104 </td><td>T1221</td><td>T1424</td><td>T1176</td><td>T1202 </td><td>T1069</td><td>T1553</td><td>T1575</td><td>T1573</td><td>T1210</td><td>T1508</td><td>T1477</td><td>T1476</td><td>T1532</td><td>T1078</td><td>T1134</td><td>T1095</td><td>T1572</td><td>T1429</td><td>T1435</td><td>T1049 </td><td>T1579</td></tr>\n",
       "<tr><td>f(X+):    </td><td>0.0002</td><td>0.0  </td><td>0.0  </td><td>0.0  </td><td>0.0001</td><td>0.0  </td><td>0.0  </td><td>0.0001</td><td>0.0  </td><td>0.0  </td><td>0.0001</td><td>0.0004</td><td>0.0001</td><td>0.0  </td><td>0.0  </td><td>0.0  </td><td>0.0  </td><td>0.0  </td><td>0.0001</td><td>0.0  </td><td>0.0  </td><td>0.0048</td><td>0.0  </td><td>0.0  </td><td>0.0  </td><td>0.0  </td><td>0.0  </td><td>0.0  </td><td>0.0001</td><td>0.0  </td><td>0.0  </td><td>0.0  </td><td>0.0  </td><td>0.0  </td><td>0.0006</td><td>0.0  </td><td>0.0  </td><td>0.0  </td><td>0.0  </td><td>0.0  </td><td>0.0  </td><td>0.0  </td><td>0.0  </td><td>0.0  </td><td>0.0  </td><td>0.0  </td><td>0.0  </td><td>0.0  </td><td>0.0  </td><td>0.0  </td><td>0.0  </td><td>0.0  </td><td>0.0001</td><td>0.0  </td><td>0.0  </td><td>0.0  </td><td>0.0  </td><td>0.0  </td><td>0.1957</td><td>0.0  </td><td>0.0  </td><td>0.0  </td><td>0.0  </td><td>0.0013</td><td>0.0002</td><td>0.0006</td><td>0.0  </td><td>0.0  </td><td>0.0022</td><td>0.0  </td><td>0.0  </td><td>0.0  </td><td>0.0001</td><td>0.0  </td><td>0.0  </td><td>0.0  </td><td>0.0  </td><td>0.0  </td><td>0.0  </td><td>0.0  </td><td>0.0  </td><td>0.0  </td><td>0.0  </td><td>0.0001</td><td>0.0  </td><td>0.0   </td><td>0.0  </td><td>0.001 </td><td>0.0  </td><td>0.0  </td><td>0.0001</td><td>0.0  </td><td>0.0  </td><td>0.0001</td><td>0.0  </td><td>0.0  </td><td>0.0  </td><td>0.0  </td><td>0.0  </td><td>0.0  </td><td>0.0001</td><td>0.0  </td><td>0.0  </td><td>0.0  </td><td>0.0  </td><td>0.0002</td><td>0.0  </td><td>0.0  </td><td>0.0  </td><td>0.0  </td><td>0.0  </td><td>0.0  </td><td>0.0001</td><td>0.0  </td><td>0.0  </td><td>0.0  </td><td>0.0  </td><td>0.0  </td><td>0.0002</td><td>0.0  </td><td>0.0  </td><td>0.0  </td><td>0.0001</td><td>0.0  </td><td>0.0  </td><td>0.0  </td><td>0.0  </td><td>0.0002</td><td>0.0  </td><td>0.0  </td><td>0.0  </td><td>0.0002</td><td>0.0  </td><td>0.0  </td><td>0.0003</td><td>0.0001</td><td>0.0  </td><td>0.0  </td><td>0.0  </td><td>0.0  </td><td>0.0  </td><td>0.1581</td><td>0.0  </td><td>0.005 </td><td>0.0  </td><td>0.0  </td><td>0.0  </td><td>0.0  </td><td>0.0  </td><td>0.0  </td><td>0.0  </td><td>0.0001</td><td>0.0002</td><td>0.0  </td><td>0.0  </td><td>0.0  </td><td>0.0  </td><td>0.0  </td><td>0.0  </td><td>0.0  </td><td>0.0  </td><td>0.0  </td><td>0.0  </td><td>0.0  </td><td>0.0  </td><td>0.0  </td><td>0.0  </td><td>0.0  </td><td>0.0  </td><td>0.0  </td><td>0.0  </td><td>0.0001</td><td>0.0  </td><td>0.0  </td><td>0.0  </td><td>0.0  </td><td>0.0  </td><td>0.0  </td><td>0.0  </td><td>0.0  </td><td>0.0  </td><td>0.0  </td><td>0.0  </td><td>0.0  </td><td>0.0  </td><td>0.0002</td><td>0.0  </td><td>0.0  </td><td>0.0  </td><td>0.0  </td><td>0.0004</td><td>0.0  </td><td>0.0016</td><td>0.0  </td><td>0.0009</td><td>0.0  </td><td>0.0  </td><td>0.0  </td><td>0.0003</td><td>0.0  </td><td>0.0  </td><td>0.0  </td><td>0.0  </td><td>0.0  </td><td>0.0  </td><td>0.0  </td><td>0.0  </td><td>0.0  </td><td>0.0  </td><td>0.0  </td><td>0.0  </td><td>0.0  </td><td>0.0  </td><td>0.0  </td><td>0.0001</td><td>0.0  </td></tr>\n",
       "<tr><td>f(X):     </td><td>0.0   </td><td>0.0  </td><td>0.0  </td><td>0.0  </td><td>0.0001</td><td>0.0  </td><td>0.0  </td><td>0.0001</td><td>0.0  </td><td>0.0  </td><td>0.0   </td><td>0.0002</td><td>0.0   </td><td>0.0  </td><td>0.0  </td><td>0.0  </td><td>0.0  </td><td>0.0  </td><td>0.0002</td><td>0.0  </td><td>0.0  </td><td>0.0012</td><td>0.0  </td><td>0.0  </td><td>0.0  </td><td>0.0  </td><td>0.0  </td><td>0.0  </td><td>0.0   </td><td>0.0  </td><td>0.0  </td><td>0.0  </td><td>0.0  </td><td>0.0  </td><td>0.0003</td><td>0.0  </td><td>0.0  </td><td>0.0  </td><td>0.0  </td><td>0.0  </td><td>0.0  </td><td>0.0  </td><td>0.0  </td><td>0.0  </td><td>0.0  </td><td>0.0  </td><td>0.0  </td><td>0.0  </td><td>0.0  </td><td>0.0  </td><td>0.0  </td><td>0.0  </td><td>0.0   </td><td>0.0  </td><td>0.0  </td><td>0.0  </td><td>0.0  </td><td>0.0  </td><td>0.6018</td><td>0.0  </td><td>0.0  </td><td>0.0  </td><td>0.0  </td><td>0.0004</td><td>0.0001</td><td>0.0001</td><td>0.0  </td><td>0.0  </td><td>0.0017</td><td>0.0  </td><td>0.0  </td><td>0.0  </td><td>0.0   </td><td>0.0  </td><td>0.0  </td><td>0.0  </td><td>0.0  </td><td>0.0  </td><td>0.0  </td><td>0.0  </td><td>0.0  </td><td>0.0  </td><td>0.0  </td><td>0.0   </td><td>0.0  </td><td>0.0001</td><td>0.0  </td><td>0.0005</td><td>0.0  </td><td>0.0  </td><td>0.0   </td><td>0.0  </td><td>0.0  </td><td>0.0   </td><td>0.0  </td><td>0.0  </td><td>0.0  </td><td>0.0  </td><td>0.0  </td><td>0.0  </td><td>0.0   </td><td>0.0  </td><td>0.0  </td><td>0.0  </td><td>0.0  </td><td>0.0001</td><td>0.0  </td><td>0.0  </td><td>0.0  </td><td>0.0  </td><td>0.0  </td><td>0.0  </td><td>0.0002</td><td>0.0  </td><td>0.0  </td><td>0.0  </td><td>0.0  </td><td>0.0  </td><td>0.0001</td><td>0.0  </td><td>0.0  </td><td>0.0  </td><td>0.0   </td><td>0.0  </td><td>0.0  </td><td>0.0  </td><td>0.0  </td><td>0.0001</td><td>0.0  </td><td>0.0  </td><td>0.0  </td><td>0.0   </td><td>0.0  </td><td>0.0  </td><td>0.0021</td><td>0.0   </td><td>0.0  </td><td>0.0  </td><td>0.0  </td><td>0.0  </td><td>0.0  </td><td>0.2159</td><td>0.0  </td><td>0.0065</td><td>0.0  </td><td>0.0  </td><td>0.0  </td><td>0.0  </td><td>0.0  </td><td>0.0  </td><td>0.0  </td><td>0.0   </td><td>0.0001</td><td>0.0  </td><td>0.0  </td><td>0.0  </td><td>0.0  </td><td>0.0  </td><td>0.0  </td><td>0.0  </td><td>0.0  </td><td>0.0  </td><td>0.0  </td><td>0.0  </td><td>0.0  </td><td>0.0  </td><td>0.0  </td><td>0.0  </td><td>0.0  </td><td>0.0  </td><td>0.0  </td><td>0.0001</td><td>0.0  </td><td>0.0  </td><td>0.0  </td><td>0.0  </td><td>0.0  </td><td>0.0  </td><td>0.0  </td><td>0.0  </td><td>0.0  </td><td>0.0  </td><td>0.0  </td><td>0.0  </td><td>0.0  </td><td>0.0001</td><td>0.0  </td><td>0.0  </td><td>0.0  </td><td>0.0  </td><td>0.0001</td><td>0.0  </td><td>0.0004</td><td>0.0  </td><td>0.0002</td><td>0.0  </td><td>0.0  </td><td>0.0  </td><td>0.0002</td><td>0.0  </td><td>0.0  </td><td>0.0  </td><td>0.0  </td><td>0.0  </td><td>0.0  </td><td>0.0  </td><td>0.0  </td><td>0.0  </td><td>0.0  </td><td>0.0  </td><td>0.0  </td><td>0.0  </td><td>0.0  </td><td>0.0  </td><td>0.0001</td><td>0.0  </td></tr>\n",
       "</tbody>\n",
       "</table>"
      ],
      "text/plain": [
       "<IPython.core.display.HTML object>"
      ]
     },
     "metadata": {},
     "output_type": "display_data"
    },
    {
     "name": "stdout",
     "output_type": "stream",
     "text": [
      "words score:\n"
     ]
    },
    {
     "data": {
      "text/html": [
       "<table>\n",
       "<tbody>\n",
       "<tr><td>Words:</td><td>association</td><td>       </td><td>for    </td><td>       </td><td>the    </td><td>       </td><td>file   </td><td>       </td><td>extension</td><td>       </td><td>which  </td><td>       </td><td>specifies</td><td>       </td><td>that   </td><td>       </td><td>they   </td><td>       </td><td>should </td><td>       </td><td>be    </td><td>       </td><td>interpreted</td><td>       </td><td>as     </td><td>       </td><td>an      </td><td>       </td><td>encoded</td><td>       </td><td>vbscript</td><td>.      </td></tr>\n",
       "<tr><td>Score:</td><td>-3.8571    </td><td>-2.9225</td><td>-6.8501</td><td>-2.9225</td><td>-7.0489</td><td>-2.9225</td><td>-2.9534</td><td>-2.9225</td><td>-2.9855  </td><td>-2.9225</td><td>-3.7532</td><td>-2.9225</td><td>-3.0644  </td><td>-2.9225</td><td>-4.5502</td><td>-2.9225</td><td>-3.6135</td><td>-2.9225</td><td>-3.2951</td><td>-2.9225</td><td>-17.44</td><td>-2.9225</td><td>-3.1641    </td><td>-2.9225</td><td>-9.9225</td><td>-2.9225</td><td>-18.2799</td><td>-2.9225</td><td>-2.9272</td><td>-2.9225</td><td>-2.7812 </td><td>-2.9619</td></tr>\n",
       "<tr><td>Sigma:</td><td>0.2601     </td><td>0.8148 </td><td>0.0001 </td><td>0.8148 </td><td>0.0001 </td><td>0.8148 </td><td>0.8019 </td><td>0.8148 </td><td>0.7877   </td><td>0.8148 </td><td>0.3177 </td><td>0.8148 </td><td>0.7499   </td><td>0.8148 </td><td>0.0512 </td><td>0.8148 </td><td>0.4045 </td><td>0.8148 </td><td>0.6164 </td><td>0.8148 </td><td>0.0   </td><td>0.8148 </td><td>0.696      </td><td>0.8148 </td><td>0.0    </td><td>0.8148 </td><td>0.0     </td><td>0.8148 </td><td>0.8129 </td><td>0.8148 </td><td>0.8657  </td><td>0.7982 </td></tr>\n",
       "</tbody>\n",
       "</table>"
      ],
      "text/plain": [
       "<IPython.core.display.HTML object>"
      ]
     },
     "metadata": {},
     "output_type": "display_data"
    },
    {
     "name": "stdout",
     "output_type": "stream",
     "text": [
      "ttp predict:\n",
      "f(X+): ['T1027-0.9444']\n",
      "f(X): ['T1027-0.71']\n"
     ]
    },
    {
     "data": {
      "text/html": [
       "<table>\n",
       "<tbody>\n",
       "<tr><td>TTP Lable:</td><td>T1220</td><td>T1132 </td><td>T1204</td><td>T1585</td><td>T1485</td><td>T1008</td><td>T1040</td><td>T1496</td><td>T1437</td><td>T1410</td><td>T1218</td><td>T1025</td><td>T1205 </td><td>T1041</td><td>T1446</td><td>T1555</td><td>T1560</td><td>T1577</td><td>T1074</td><td>T1080</td><td>T1200</td><td>T1489 </td><td>T1491</td><td>T1012</td><td>T1583</td><td>T1516</td><td>T1407</td><td>T1484</td><td>T1055</td><td>T1438</td><td>T1517</td><td>T1112 </td><td>T1430</td><td>T1552</td><td>T1072</td><td>T1409</td><td>T1400</td><td>T1187</td><td>T1001 </td><td>T1052</td><td>T1518</td><td>T1203</td><td>T1521</td><td>T1554 </td><td>T1587</td><td>T1528</td><td>T1547 </td><td>T1413</td><td>T1499</td><td>T1558</td><td>T1135</td><td>T1102</td><td>T1119</td><td>T1507</td><td>T1571</td><td>T1570</td><td>T1195</td><td>T1557</td><td>T1543 </td><td>T1562</td><td>T1201</td><td>T1114</td><td>T1486</td><td>T1480 </td><td>T1490</td><td>T1140 </td><td>T1420</td><td>T1512</td><td>T1542</td><td>T1020</td><td>T1090</td><td>T1452</td><td>T1046</td><td>T1414</td><td>T1120</td><td>T1213</td><td>T1217</td><td>T1474</td><td>T1402</td><td>T1458</td><td>T1003</td><td>T1417</td><td>T1401</td><td>T1129</td><td>T1534</td><td>T1083</td><td>T1539</td><td>T1037</td><td>T1071</td><td>T1433</td><td>T1564</td><td>T1411</td><td>T1509</td><td>T1011 </td><td>T1540</td><td>T1541</td><td>T1059 </td><td>T1211</td><td>T1115</td><td>T1016</td><td>T1027 </td><td>T1398</td><td>T1418</td><td>T1030</td><td>T1010</td><td>T1561</td><td>T1199</td><td>T1189</td><td>T1482</td><td>T1559</td><td>T1098</td><td>T1436</td><td>T1222</td><td>T1447</td><td>T1124</td><td>T1007</td><td>T1053</td><td>T1057</td><td>T1105 </td><td>T1576</td><td>T1216 </td><td>T1565</td><td>T1113</td><td>T1432</td><td>T1125</td><td>T1498</td><td>T1185</td><td>T1197 </td><td>T1406</td><td>T1505</td><td>T1137 </td><td>T1497 </td><td>T1574</td><td>T1588</td><td>T1036</td><td>T1092</td><td>T1601</td><td>T1219</td><td>T1033</td><td>T1422</td><td>T1444</td><td>T1070</td><td>T1520</td><td>T1569 </td><td>T1018</td><td>T1039</td><td>T1568</td><td>T1190 </td><td>T1456</td><td>T1471</td><td>T1068</td><td>T1529</td><td>T1106 </td><td>T1544</td><td>T1475</td><td>T1056</td><td>T1531</td><td>T1563</td><td>T1048</td><td>T1082 </td><td>T1581</td><td>T1556 </td><td>T1550</td><td>T1584</td><td>T1123</td><td>T1513</td><td>T1533</td><td>T1567</td><td>T1087</td><td>T1005</td><td>T1111</td><td>T1546 </td><td>T1133</td><td>T1207</td><td>T1428</td><td>T1021</td><td>T1448</td><td>T1047</td><td>T1136</td><td>T1478</td><td>T1481</td><td>T1566</td><td>T1426</td><td>T1110</td><td>T1582</td><td>T1029</td><td>T1404</td><td>T1548</td><td>T1412</td><td>T1523</td><td>T1127</td><td>T1472</td><td>T1091</td><td>T1014</td><td>T1104 </td><td>T1221</td><td>T1424</td><td>T1176</td><td>T1202 </td><td>T1069</td><td>T1553</td><td>T1575</td><td>T1573 </td><td>T1210</td><td>T1508</td><td>T1477</td><td>T1476</td><td>T1532</td><td>T1078</td><td>T1134</td><td>T1095 </td><td>T1572</td><td>T1429</td><td>T1435</td><td>T1049</td><td>T1579</td></tr>\n",
       "<tr><td>f(X+):    </td><td>0.0  </td><td>0.0002</td><td>0.0  </td><td>0.0  </td><td>0.0  </td><td>0.0  </td><td>0.0  </td><td>0.0  </td><td>0.0  </td><td>0.0  </td><td>0.0  </td><td>0.0  </td><td>0.0013</td><td>0.0  </td><td>0.0  </td><td>0.0  </td><td>0.0  </td><td>0.0  </td><td>0.0  </td><td>0.0  </td><td>0.0  </td><td>0.0001</td><td>0.0  </td><td>0.0  </td><td>0.0  </td><td>0.0  </td><td>0.0  </td><td>0.0  </td><td>0.0  </td><td>0.0  </td><td>0.0  </td><td>0.0004</td><td>0.0  </td><td>0.0  </td><td>0.0  </td><td>0.0  </td><td>0.0  </td><td>0.0  </td><td>0.0004</td><td>0.0  </td><td>0.0  </td><td>0.0  </td><td>0.0  </td><td>0.0001</td><td>0.0  </td><td>0.0  </td><td>0.0001</td><td>0.0  </td><td>0.0  </td><td>0.0  </td><td>0.0  </td><td>0.0  </td><td>0.0  </td><td>0.0  </td><td>0.0  </td><td>0.0  </td><td>0.0  </td><td>0.0  </td><td>0.0001</td><td>0.0  </td><td>0.0  </td><td>0.0  </td><td>0.0  </td><td>0.0002</td><td>0.0  </td><td>0.006 </td><td>0.0  </td><td>0.0  </td><td>0.0  </td><td>0.0  </td><td>0.0  </td><td>0.0  </td><td>0.0  </td><td>0.0  </td><td>0.0  </td><td>0.0  </td><td>0.0  </td><td>0.0  </td><td>0.0  </td><td>0.0  </td><td>0.0  </td><td>0.0  </td><td>0.0  </td><td>0.0  </td><td>0.0  </td><td>0.0  </td><td>0.0  </td><td>0.012</td><td>0.0  </td><td>0.0  </td><td>0.0  </td><td>0.0  </td><td>0.0  </td><td>0.0023</td><td>0.0  </td><td>0.0  </td><td>0.0154</td><td>0.0  </td><td>0.0  </td><td>0.0  </td><td>0.9444</td><td>0.0  </td><td>0.0  </td><td>0.0  </td><td>0.0  </td><td>0.0  </td><td>0.0  </td><td>0.0  </td><td>0.0  </td><td>0.0  </td><td>0.0  </td><td>0.0  </td><td>0.0  </td><td>0.0  </td><td>0.0  </td><td>0.0  </td><td>0.0  </td><td>0.0  </td><td>0.0003</td><td>0.0  </td><td>0.0011</td><td>0.0  </td><td>0.0  </td><td>0.0  </td><td>0.0  </td><td>0.0  </td><td>0.0  </td><td>0.0004</td><td>0.0  </td><td>0.0  </td><td>0.0003</td><td>0.0001</td><td>0.0  </td><td>0.0  </td><td>0.0  </td><td>0.0  </td><td>0.0  </td><td>0.0  </td><td>0.0  </td><td>0.0  </td><td>0.0  </td><td>0.0  </td><td>0.0  </td><td>0.0004</td><td>0.0  </td><td>0.0  </td><td>0.0  </td><td>0.0006</td><td>0.0  </td><td>0.0  </td><td>0.0  </td><td>0.0  </td><td>0.0003</td><td>0.0  </td><td>0.0  </td><td>0.0  </td><td>0.0  </td><td>0.0  </td><td>0.0  </td><td>0.0014</td><td>0.0  </td><td>0.0002</td><td>0.0  </td><td>0.0  </td><td>0.0  </td><td>0.0  </td><td>0.0  </td><td>0.0  </td><td>0.0  </td><td>0.0  </td><td>0.0  </td><td>0.0003</td><td>0.0  </td><td>0.0  </td><td>0.0  </td><td>0.0  </td><td>0.0  </td><td>0.0  </td><td>0.0  </td><td>0.0  </td><td>0.0  </td><td>0.0  </td><td>0.0  </td><td>0.0  </td><td>0.0  </td><td>0.0  </td><td>0.0  </td><td>0.0  </td><td>0.0  </td><td>0.0  </td><td>0.0  </td><td>0.0  </td><td>0.0  </td><td>0.0  </td><td>0.0003</td><td>0.0  </td><td>0.0  </td><td>0.0  </td><td>0.0012</td><td>0.0  </td><td>0.0  </td><td>0.0  </td><td>0.0002</td><td>0.0  </td><td>0.0  </td><td>0.0  </td><td>0.0  </td><td>0.0  </td><td>0.0  </td><td>0.0  </td><td>0.0002</td><td>0.0  </td><td>0.0  </td><td>0.0  </td><td>0.0  </td><td>0.0  </td></tr>\n",
       "<tr><td>f(X):     </td><td>0.0  </td><td>0.0004</td><td>0.0  </td><td>0.0  </td><td>0.0  </td><td>0.0  </td><td>0.0  </td><td>0.0  </td><td>0.0  </td><td>0.0  </td><td>0.0  </td><td>0.0  </td><td>0.0008</td><td>0.0  </td><td>0.0  </td><td>0.0  </td><td>0.0  </td><td>0.0  </td><td>0.0  </td><td>0.0  </td><td>0.0  </td><td>0.0   </td><td>0.0  </td><td>0.0  </td><td>0.0  </td><td>0.0  </td><td>0.0  </td><td>0.0  </td><td>0.0  </td><td>0.0  </td><td>0.0  </td><td>0.0005</td><td>0.0  </td><td>0.0  </td><td>0.0  </td><td>0.0  </td><td>0.0  </td><td>0.0  </td><td>0.0007</td><td>0.0  </td><td>0.0  </td><td>0.0  </td><td>0.0  </td><td>0.0   </td><td>0.0  </td><td>0.0  </td><td>0.0005</td><td>0.0  </td><td>0.0  </td><td>0.0  </td><td>0.0  </td><td>0.0  </td><td>0.0  </td><td>0.0  </td><td>0.0  </td><td>0.0  </td><td>0.0  </td><td>0.0  </td><td>0.0   </td><td>0.0  </td><td>0.0  </td><td>0.0  </td><td>0.0  </td><td>0.0002</td><td>0.0  </td><td>0.0131</td><td>0.0  </td><td>0.0  </td><td>0.0  </td><td>0.0  </td><td>0.0  </td><td>0.0  </td><td>0.0  </td><td>0.0  </td><td>0.0  </td><td>0.0  </td><td>0.0  </td><td>0.0  </td><td>0.0  </td><td>0.0  </td><td>0.0  </td><td>0.0  </td><td>0.0  </td><td>0.0  </td><td>0.0  </td><td>0.0  </td><td>0.0  </td><td>0.012</td><td>0.0  </td><td>0.0  </td><td>0.0  </td><td>0.0  </td><td>0.0  </td><td>0.0005</td><td>0.0  </td><td>0.0  </td><td>0.0792</td><td>0.0  </td><td>0.0  </td><td>0.0  </td><td>0.71  </td><td>0.0  </td><td>0.0  </td><td>0.0  </td><td>0.0  </td><td>0.0  </td><td>0.0  </td><td>0.0  </td><td>0.0  </td><td>0.0  </td><td>0.0  </td><td>0.0  </td><td>0.0  </td><td>0.0  </td><td>0.0  </td><td>0.0  </td><td>0.0  </td><td>0.0  </td><td>0.0013</td><td>0.0  </td><td>0.0005</td><td>0.0  </td><td>0.0  </td><td>0.0  </td><td>0.0  </td><td>0.0  </td><td>0.0  </td><td>0.0004</td><td>0.0  </td><td>0.0  </td><td>0.0002</td><td>0.0   </td><td>0.0  </td><td>0.0  </td><td>0.0  </td><td>0.0  </td><td>0.0  </td><td>0.0  </td><td>0.0  </td><td>0.0  </td><td>0.0  </td><td>0.0  </td><td>0.0  </td><td>0.0006</td><td>0.0  </td><td>0.0  </td><td>0.0  </td><td>0.0001</td><td>0.0  </td><td>0.0  </td><td>0.0  </td><td>0.0  </td><td>0.0011</td><td>0.0  </td><td>0.0  </td><td>0.0  </td><td>0.0  </td><td>0.0  </td><td>0.0  </td><td>0.0012</td><td>0.0  </td><td>0.0001</td><td>0.0  </td><td>0.0  </td><td>0.0  </td><td>0.0  </td><td>0.0  </td><td>0.0  </td><td>0.0  </td><td>0.0  </td><td>0.0  </td><td>0.0006</td><td>0.0  </td><td>0.0  </td><td>0.0  </td><td>0.0  </td><td>0.0  </td><td>0.0  </td><td>0.0  </td><td>0.0  </td><td>0.0  </td><td>0.0  </td><td>0.0  </td><td>0.0  </td><td>0.0  </td><td>0.0  </td><td>0.0  </td><td>0.0  </td><td>0.0  </td><td>0.0  </td><td>0.0  </td><td>0.0  </td><td>0.0  </td><td>0.0  </td><td>0.0002</td><td>0.0  </td><td>0.0  </td><td>0.0  </td><td>0.0005</td><td>0.0  </td><td>0.0  </td><td>0.0  </td><td>0.0001</td><td>0.0  </td><td>0.0  </td><td>0.0  </td><td>0.0  </td><td>0.0  </td><td>0.0  </td><td>0.0  </td><td>0.0001</td><td>0.0  </td><td>0.0  </td><td>0.0  </td><td>0.0  </td><td>0.0  </td></tr>\n",
       "</tbody>\n",
       "</table>"
      ],
      "text/plain": [
       "<IPython.core.display.HTML object>"
      ]
     },
     "metadata": {},
     "output_type": "display_data"
    },
    {
     "name": "stdout",
     "output_type": "stream",
     "text": [
      "words score:\n"
     ]
    },
    {
     "data": {
      "text/html": [
       "<table>\n",
       "<tbody>\n",
       "<tr><td>Words:</td><td>finally</td><td>,      </td><td>       </td><td>the    </td><td>       </td><td>shellcode</td><td>       </td><td>executes</td><td>       </td><td>the    </td><td>       </td><td>encoded</td><td>       </td><td>vbscript</td><td>       </td><td>file   </td><td>       </td><td>which  </td><td>       </td><td>will   </td><td>       </td><td>extract</td><td>       </td><td>the    </td><td>       </td><td>encrypted</td><td>       </td><td>files </td><td>       </td><td>from  </td><td>       </td><td>the    </td></tr>\n",
       "<tr><td>Score:</td><td>-3.5072</td><td>-5.4322</td><td>-2.9225</td><td>-7.0489</td><td>-2.9225</td><td>-2.9888  </td><td>-2.9225</td><td>-3.1587 </td><td>-2.9225</td><td>-7.0489</td><td>-2.9225</td><td>-2.9272</td><td>-2.9225</td><td>-2.7812 </td><td>-2.9225</td><td>-2.9534</td><td>-2.9225</td><td>-3.7532</td><td>-2.9225</td><td>-4.7878</td><td>-2.9225</td><td>-2.8822</td><td>-2.9225</td><td>-7.0489</td><td>-2.9225</td><td>-2.9994  </td><td>-2.9225</td><td>-2.945</td><td>-2.9225</td><td>-3.68 </td><td>-2.9225</td><td>-7.0489</td></tr>\n",
       "<tr><td>Sigma:</td><td>0.009  </td><td>0.0    </td><td>0.2069 </td><td>0.0    </td><td>0.2069 </td><td>0.1514   </td><td>0.2069 </td><td>0.063   </td><td>0.2069 </td><td>0.0    </td><td>0.2069 </td><td>0.2026 </td><td>0.2069 </td><td>0.3699  </td><td>0.2069 </td><td>0.1794 </td><td>0.2069 </td><td>0.0022 </td><td>0.2069 </td><td>0.0    </td><td>0.2069 </td><td>0.2475 </td><td>0.2069 </td><td>0.0    </td><td>0.2069 </td><td>0.1437   </td><td>0.2069 </td><td>0.1866</td><td>0.2069 </td><td>0.0034</td><td>0.2069 </td><td>0.0    </td></tr>\n",
       "</tbody>\n",
       "</table>"
      ],
      "text/plain": [
       "<IPython.core.display.HTML object>"
      ]
     },
     "metadata": {},
     "output_type": "display_data"
    },
    {
     "name": "stdout",
     "output_type": "stream",
     "text": [
      "ttp predict:\n",
      "f(X+): ['T1059-0.8766']\n",
      "f(X): []\n"
     ]
    },
    {
     "data": {
      "text/html": [
       "<table>\n",
       "<tbody>\n",
       "<tr><td>TTP Lable:</td><td>T1220</td><td>T1132 </td><td>T1204</td><td>T1585</td><td>T1485</td><td>T1008</td><td>T1040</td><td>T1496</td><td>T1437</td><td>T1410</td><td>T1218</td><td>T1025</td><td>T1205 </td><td>T1041</td><td>T1446</td><td>T1555</td><td>T1560</td><td>T1577</td><td>T1074</td><td>T1080</td><td>T1200</td><td>T1489</td><td>T1491</td><td>T1012</td><td>T1583</td><td>T1516</td><td>T1407</td><td>T1484</td><td>T1055 </td><td>T1438</td><td>T1517</td><td>T1112 </td><td>T1430</td><td>T1552 </td><td>T1072</td><td>T1409</td><td>T1400</td><td>T1187</td><td>T1001 </td><td>T1052</td><td>T1518</td><td>T1203</td><td>T1521</td><td>T1554</td><td>T1587</td><td>T1528</td><td>T1547 </td><td>T1413</td><td>T1499</td><td>T1558</td><td>T1135</td><td>T1102</td><td>T1119</td><td>T1507</td><td>T1571</td><td>T1570</td><td>T1195</td><td>T1557</td><td>T1543</td><td>T1562</td><td>T1201</td><td>T1114</td><td>T1486</td><td>T1480 </td><td>T1490</td><td>T1140 </td><td>T1420</td><td>T1512</td><td>T1542</td><td>T1020</td><td>T1090</td><td>T1452</td><td>T1046</td><td>T1414</td><td>T1120</td><td>T1213</td><td>T1217</td><td>T1474</td><td>T1402</td><td>T1458</td><td>T1003</td><td>T1417</td><td>T1401</td><td>T1129</td><td>T1534</td><td>T1083</td><td>T1539</td><td>T1037 </td><td>T1071</td><td>T1433</td><td>T1564</td><td>T1411</td><td>T1509</td><td>T1011 </td><td>T1540</td><td>T1541</td><td>T1059 </td><td>T1211</td><td>T1115</td><td>T1016</td><td>T1027 </td><td>T1398</td><td>T1418</td><td>T1030</td><td>T1010</td><td>T1561</td><td>T1199</td><td>T1189</td><td>T1482</td><td>T1559</td><td>T1098</td><td>T1436</td><td>T1222</td><td>T1447</td><td>T1124</td><td>T1007</td><td>T1053</td><td>T1057</td><td>T1105 </td><td>T1576</td><td>T1216 </td><td>T1565</td><td>T1113</td><td>T1432</td><td>T1125</td><td>T1498</td><td>T1185</td><td>T1197 </td><td>T1406</td><td>T1505</td><td>T1137 </td><td>T1497</td><td>T1574</td><td>T1588</td><td>T1036</td><td>T1092</td><td>T1601</td><td>T1219</td><td>T1033</td><td>T1422</td><td>T1444</td><td>T1070 </td><td>T1520</td><td>T1569 </td><td>T1018</td><td>T1039</td><td>T1568</td><td>T1190</td><td>T1456</td><td>T1471</td><td>T1068</td><td>T1529</td><td>T1106</td><td>T1544</td><td>T1475</td><td>T1056</td><td>T1531</td><td>T1563</td><td>T1048</td><td>T1082 </td><td>T1581</td><td>T1556 </td><td>T1550</td><td>T1584</td><td>T1123</td><td>T1513</td><td>T1533</td><td>T1567</td><td>T1087</td><td>T1005</td><td>T1111</td><td>T1546 </td><td>T1133</td><td>T1207</td><td>T1428</td><td>T1021</td><td>T1448</td><td>T1047</td><td>T1136</td><td>T1478</td><td>T1481</td><td>T1566</td><td>T1426</td><td>T1110</td><td>T1582</td><td>T1029</td><td>T1404</td><td>T1548</td><td>T1412</td><td>T1523</td><td>T1127</td><td>T1472</td><td>T1091</td><td>T1014</td><td>T1104 </td><td>T1221</td><td>T1424</td><td>T1176</td><td>T1202 </td><td>T1069</td><td>T1553</td><td>T1575</td><td>T1573 </td><td>T1210</td><td>T1508</td><td>T1477</td><td>T1476</td><td>T1532</td><td>T1078</td><td>T1134</td><td>T1095 </td><td>T1572</td><td>T1429</td><td>T1435</td><td>T1049</td><td>T1579</td></tr>\n",
       "<tr><td>f(X+):    </td><td>0.0  </td><td>0.0   </td><td>0.0  </td><td>0.0  </td><td>0.0  </td><td>0.0  </td><td>0.0  </td><td>0.0  </td><td>0.0  </td><td>0.0  </td><td>0.0  </td><td>0.0  </td><td>0.0015</td><td>0.0  </td><td>0.0  </td><td>0.0  </td><td>0.0  </td><td>0.0  </td><td>0.0  </td><td>0.0  </td><td>0.0  </td><td>0.0  </td><td>0.0  </td><td>0.0  </td><td>0.0  </td><td>0.0  </td><td>0.0  </td><td>0.0  </td><td>0.0001</td><td>0.0  </td><td>0.0  </td><td>0.0001</td><td>0.0  </td><td>0.0001</td><td>0.0  </td><td>0.0  </td><td>0.0  </td><td>0.0  </td><td>0.0009</td><td>0.0  </td><td>0.0  </td><td>0.0  </td><td>0.0  </td><td>0.0  </td><td>0.0  </td><td>0.0  </td><td>0.0052</td><td>0.0  </td><td>0.0  </td><td>0.0  </td><td>0.0  </td><td>0.0  </td><td>0.0  </td><td>0.0  </td><td>0.0  </td><td>0.0  </td><td>0.0  </td><td>0.0  </td><td>0.0  </td><td>0.0  </td><td>0.0  </td><td>0.0  </td><td>0.0  </td><td>0.0001</td><td>0.0  </td><td>0.006 </td><td>0.0  </td><td>0.0  </td><td>0.0  </td><td>0.0  </td><td>0.0  </td><td>0.0  </td><td>0.0  </td><td>0.0  </td><td>0.0  </td><td>0.0  </td><td>0.0  </td><td>0.0  </td><td>0.0  </td><td>0.0  </td><td>0.0  </td><td>0.0  </td><td>0.0  </td><td>0.0  </td><td>0.0  </td><td>0.0  </td><td>0.0  </td><td>0.0153</td><td>0.0  </td><td>0.0  </td><td>0.0  </td><td>0.0  </td><td>0.0  </td><td>0.0001</td><td>0.0  </td><td>0.0  </td><td>0.8766</td><td>0.0  </td><td>0.0  </td><td>0.0  </td><td>0.2169</td><td>0.0  </td><td>0.0  </td><td>0.0  </td><td>0.0  </td><td>0.0  </td><td>0.0  </td><td>0.0  </td><td>0.0  </td><td>0.0  </td><td>0.0  </td><td>0.0  </td><td>0.0  </td><td>0.0  </td><td>0.0  </td><td>0.0  </td><td>0.0  </td><td>0.0  </td><td>0.002 </td><td>0.0  </td><td>0.0024</td><td>0.0  </td><td>0.0  </td><td>0.0  </td><td>0.0  </td><td>0.0  </td><td>0.0  </td><td>0.0002</td><td>0.0  </td><td>0.0  </td><td>0.0001</td><td>0.0  </td><td>0.0  </td><td>0.0  </td><td>0.0  </td><td>0.0  </td><td>0.0  </td><td>0.0  </td><td>0.0  </td><td>0.0  </td><td>0.0  </td><td>0.0001</td><td>0.0  </td><td>0.0003</td><td>0.0  </td><td>0.0  </td><td>0.0  </td><td>0.0  </td><td>0.0  </td><td>0.0  </td><td>0.0  </td><td>0.0  </td><td>0.005</td><td>0.0  </td><td>0.0  </td><td>0.0  </td><td>0.0  </td><td>0.0  </td><td>0.0  </td><td>0.0002</td><td>0.0  </td><td>0.0003</td><td>0.0  </td><td>0.0  </td><td>0.0  </td><td>0.0  </td><td>0.0  </td><td>0.0  </td><td>0.0  </td><td>0.0  </td><td>0.0  </td><td>0.0001</td><td>0.0  </td><td>0.0  </td><td>0.0  </td><td>0.0  </td><td>0.0  </td><td>0.0  </td><td>0.0  </td><td>0.0  </td><td>0.0  </td><td>0.0  </td><td>0.0  </td><td>0.0  </td><td>0.0  </td><td>0.0  </td><td>0.0  </td><td>0.0  </td><td>0.0  </td><td>0.0  </td><td>0.0  </td><td>0.0  </td><td>0.0  </td><td>0.0  </td><td>0.0002</td><td>0.0  </td><td>0.0  </td><td>0.0  </td><td>0.0003</td><td>0.0  </td><td>0.0  </td><td>0.0  </td><td>0.0001</td><td>0.0  </td><td>0.0  </td><td>0.0  </td><td>0.0  </td><td>0.0  </td><td>0.0  </td><td>0.0  </td><td>0.0001</td><td>0.0  </td><td>0.0  </td><td>0.0  </td><td>0.0  </td><td>0.0  </td></tr>\n",
       "<tr><td>f(X):     </td><td>0.0  </td><td>0.0011</td><td>0.0  </td><td>0.0  </td><td>0.0  </td><td>0.0  </td><td>0.0  </td><td>0.0  </td><td>0.0  </td><td>0.0  </td><td>0.0  </td><td>0.0  </td><td>0.0001</td><td>0.0  </td><td>0.0  </td><td>0.0  </td><td>0.0  </td><td>0.0  </td><td>0.0  </td><td>0.0  </td><td>0.0  </td><td>0.0  </td><td>0.0  </td><td>0.0  </td><td>0.0  </td><td>0.0  </td><td>0.0  </td><td>0.0  </td><td>0.0001</td><td>0.0  </td><td>0.0  </td><td>0.0004</td><td>0.0  </td><td>0.0   </td><td>0.0  </td><td>0.0  </td><td>0.0  </td><td>0.0  </td><td>0.0002</td><td>0.0  </td><td>0.0  </td><td>0.0  </td><td>0.0  </td><td>0.0  </td><td>0.0  </td><td>0.0  </td><td>0.0   </td><td>0.0  </td><td>0.0  </td><td>0.0  </td><td>0.0  </td><td>0.0  </td><td>0.0  </td><td>0.0  </td><td>0.0  </td><td>0.0  </td><td>0.0  </td><td>0.0  </td><td>0.0  </td><td>0.0  </td><td>0.0  </td><td>0.0  </td><td>0.0  </td><td>0.0   </td><td>0.0  </td><td>0.4514</td><td>0.0  </td><td>0.0  </td><td>0.0  </td><td>0.0  </td><td>0.0  </td><td>0.0  </td><td>0.0  </td><td>0.0  </td><td>0.0  </td><td>0.0  </td><td>0.0  </td><td>0.0  </td><td>0.0  </td><td>0.0  </td><td>0.0  </td><td>0.0  </td><td>0.0  </td><td>0.0  </td><td>0.0  </td><td>0.0  </td><td>0.0  </td><td>0.0002</td><td>0.0  </td><td>0.0  </td><td>0.0  </td><td>0.0  </td><td>0.0  </td><td>0.0001</td><td>0.0  </td><td>0.0  </td><td>0.0003</td><td>0.0  </td><td>0.0  </td><td>0.0  </td><td>0.2065</td><td>0.0  </td><td>0.0  </td><td>0.0  </td><td>0.0  </td><td>0.0  </td><td>0.0  </td><td>0.0  </td><td>0.0  </td><td>0.0  </td><td>0.0  </td><td>0.0  </td><td>0.0  </td><td>0.0  </td><td>0.0  </td><td>0.0  </td><td>0.0  </td><td>0.0  </td><td>0.0004</td><td>0.0  </td><td>0.0   </td><td>0.0  </td><td>0.0  </td><td>0.0  </td><td>0.0  </td><td>0.0  </td><td>0.0  </td><td>0.0002</td><td>0.0  </td><td>0.0  </td><td>0.0   </td><td>0.0  </td><td>0.0  </td><td>0.0  </td><td>0.0  </td><td>0.0  </td><td>0.0  </td><td>0.0  </td><td>0.0  </td><td>0.0  </td><td>0.0  </td><td>0.0001</td><td>0.0  </td><td>0.0   </td><td>0.0  </td><td>0.0  </td><td>0.0  </td><td>0.0  </td><td>0.0  </td><td>0.0  </td><td>0.0  </td><td>0.0  </td><td>0.0  </td><td>0.0  </td><td>0.0  </td><td>0.0  </td><td>0.0  </td><td>0.0  </td><td>0.0  </td><td>0.0   </td><td>0.0  </td><td>0.0   </td><td>0.0  </td><td>0.0  </td><td>0.0  </td><td>0.0  </td><td>0.0  </td><td>0.0  </td><td>0.0  </td><td>0.0  </td><td>0.0  </td><td>0.0   </td><td>0.0  </td><td>0.0  </td><td>0.0  </td><td>0.0  </td><td>0.0  </td><td>0.0  </td><td>0.0  </td><td>0.0  </td><td>0.0  </td><td>0.0  </td><td>0.0  </td><td>0.0  </td><td>0.0  </td><td>0.0  </td><td>0.0  </td><td>0.0  </td><td>0.0  </td><td>0.0  </td><td>0.0  </td><td>0.0  </td><td>0.0  </td><td>0.0  </td><td>0.0   </td><td>0.0  </td><td>0.0  </td><td>0.0  </td><td>0.0   </td><td>0.0  </td><td>0.0  </td><td>0.0  </td><td>0.0002</td><td>0.0  </td><td>0.0  </td><td>0.0  </td><td>0.0  </td><td>0.0  </td><td>0.0  </td><td>0.0  </td><td>0.0001</td><td>0.0  </td><td>0.0  </td><td>0.0  </td><td>0.0  </td><td>0.0  </td></tr>\n",
       "</tbody>\n",
       "</table>"
      ],
      "text/plain": [
       "<IPython.core.display.HTML object>"
      ]
     },
     "metadata": {},
     "output_type": "display_data"
    },
    {
     "name": "stdout",
     "output_type": "stream",
     "text": [
      "words score:\n"
     ]
    },
    {
     "data": {
      "text/html": [
       "<table>\n",
       "<tbody>\n",
       "<tr><td>Words:</td><td>binary </td><td>       </td><td>blob   </td><td>,      </td><td>       </td><td>show   </td><td>       </td><td>the    </td><td>       </td><td>decoy  </td><td>       </td><td>document</td><td>       </td><td>(      </td><td>if      </td><td>       </td><td>there  </td><td>       </td><td>is      </td><td>       </td><td>one    </td><td>)      </td><td>,      </td><td>       </td><td>and    </td><td>       </td><td>execute</td><td>       </td><td>the    </td><td>       </td><td>malware</td><td>.      </td></tr>\n",
       "<tr><td>Score:</td><td>-2.9265</td><td>-2.9225</td><td>-3.3131</td><td>-5.4322</td><td>-2.9225</td><td>-3.3285</td><td>-2.9225</td><td>-7.0489</td><td>-2.9225</td><td>-2.8429</td><td>-2.9225</td><td>-3.0664 </td><td>-2.9225</td><td>-3.4268</td><td>-11.3149</td><td>-2.9225</td><td>-3.8387</td><td>-2.9225</td><td>-13.9996</td><td>-2.9225</td><td>-4.4119</td><td>-2.9409</td><td>-5.4322</td><td>-2.9225</td><td>-5.7416</td><td>-2.9225</td><td>-3.5395</td><td>-2.9225</td><td>-7.0489</td><td>-2.9225</td><td>-3.1245</td><td>-2.9619</td></tr>\n",
       "<tr><td>Sigma:</td><td>0.7371 </td><td>0.7397 </td><td>0.4297 </td><td>0.0006 </td><td>0.7397 </td><td>0.4169 </td><td>0.7397 </td><td>0.0    </td><td>0.7397 </td><td>0.7883 </td><td>0.7397 </td><td>0.6354  </td><td>0.7397 </td><td>0.3386 </td><td>0.0     </td><td>0.7397 </td><td>0.1121 </td><td>0.7397 </td><td>0.0     </td><td>0.7397 </td><td>0.0177 </td><td>0.7275 </td><td>0.0006 </td><td>0.7397 </td><td>0.0002 </td><td>0.7397 </td><td>0.2587 </td><td>0.7397 </td><td>0.0    </td><td>0.7397 </td><td>0.5885 </td><td>0.7131 </td></tr>\n",
       "</tbody>\n",
       "</table>"
      ],
      "text/plain": [
       "<IPython.core.display.HTML object>"
      ]
     },
     "metadata": {},
     "output_type": "display_data"
    },
    {
     "name": "stdout",
     "output_type": "stream",
     "text": [
      "ttp predict:\n",
      "f(X+): []\n",
      "f(X): []\n"
     ]
    },
    {
     "data": {
      "text/html": [
       "<table>\n",
       "<tbody>\n",
       "<tr><td>TTP Lable:</td><td>T1220 </td><td>T1132</td><td>T1204</td><td>T1585</td><td>T1485 </td><td>T1008 </td><td>T1040 </td><td>T1496</td><td>T1437</td><td>T1410</td><td>T1218</td><td>T1025</td><td>T1205 </td><td>T1041</td><td>T1446</td><td>T1555</td><td>T1560 </td><td>T1577</td><td>T1074 </td><td>T1080 </td><td>T1200</td><td>T1489</td><td>T1491 </td><td>T1012</td><td>T1583</td><td>T1516</td><td>T1407</td><td>T1484</td><td>T1055</td><td>T1438</td><td>T1517</td><td>T1112</td><td>T1430</td><td>T1552</td><td>T1072 </td><td>T1409</td><td>T1400</td><td>T1187</td><td>T1001 </td><td>T1052 </td><td>T1518</td><td>T1203 </td><td>T1521</td><td>T1554 </td><td>T1587</td><td>T1528 </td><td>T1547</td><td>T1413</td><td>T1499 </td><td>T1558</td><td>T1135</td><td>T1102 </td><td>T1119 </td><td>T1507</td><td>T1571 </td><td>T1570</td><td>T1195</td><td>T1557 </td><td>T1543</td><td>T1562</td><td>T1201</td><td>T1114</td><td>T1486 </td><td>T1480 </td><td>T1490 </td><td>T1140</td><td>T1420</td><td>T1512</td><td>T1542</td><td>T1020 </td><td>T1090 </td><td>T1452</td><td>T1046 </td><td>T1414</td><td>T1120 </td><td>T1213 </td><td>T1217 </td><td>T1474</td><td>T1402</td><td>T1458</td><td>T1003</td><td>T1417</td><td>T1401</td><td>T1129</td><td>T1534</td><td>T1083 </td><td>T1539</td><td>T1037</td><td>T1071</td><td>T1433</td><td>T1564 </td><td>T1411</td><td>T1509</td><td>T1011 </td><td>T1540</td><td>T1541</td><td>T1059 </td><td>T1211 </td><td>T1115</td><td>T1016</td><td>T1027 </td><td>T1398</td><td>T1418</td><td>T1030 </td><td>T1010</td><td>T1561 </td><td>T1199 </td><td>T1189</td><td>T1482 </td><td>T1559 </td><td>T1098</td><td>T1436</td><td>T1222</td><td>T1447</td><td>T1124 </td><td>T1007</td><td>T1053</td><td>T1057</td><td>T1105 </td><td>T1576</td><td>T1216</td><td>T1565</td><td>T1113 </td><td>T1432</td><td>T1125</td><td>T1498</td><td>T1185</td><td>T1197</td><td>T1406</td><td>T1505 </td><td>T1137 </td><td>T1497 </td><td>T1574</td><td>T1588</td><td>T1036 </td><td>T1092 </td><td>T1601</td><td>T1219 </td><td>T1033</td><td>T1422</td><td>T1444</td><td>T1070</td><td>T1520</td><td>T1569</td><td>T1018 </td><td>T1039 </td><td>T1568</td><td>T1190 </td><td>T1456</td><td>T1471</td><td>T1068</td><td>T1529</td><td>T1106 </td><td>T1544</td><td>T1475</td><td>T1056</td><td>T1531</td><td>T1563</td><td>T1048 </td><td>T1082</td><td>T1581</td><td>T1556</td><td>T1550</td><td>T1584</td><td>T1123</td><td>T1513</td><td>T1533</td><td>T1567 </td><td>T1087</td><td>T1005 </td><td>T1111 </td><td>T1546</td><td>T1133</td><td>T1207 </td><td>T1428</td><td>T1021</td><td>T1448</td><td>T1047</td><td>T1136</td><td>T1478</td><td>T1481</td><td>T1566 </td><td>T1426</td><td>T1110</td><td>T1582</td><td>T1029 </td><td>T1404</td><td>T1548</td><td>T1412</td><td>T1523</td><td>T1127 </td><td>T1472</td><td>T1091 </td><td>T1014</td><td>T1104 </td><td>T1221 </td><td>T1424</td><td>T1176 </td><td>T1202 </td><td>T1069</td><td>T1553</td><td>T1575</td><td>T1573 </td><td>T1210</td><td>T1508</td><td>T1477</td><td>T1476</td><td>T1532</td><td>T1078</td><td>T1134</td><td>T1095</td><td>T1572 </td><td>T1429</td><td>T1435</td><td>T1049</td><td>T1579</td></tr>\n",
       "<tr><td>f(X+):    </td><td>0.0003</td><td>0.0  </td><td>0.0  </td><td>0.0  </td><td>0.0004</td><td>0.0   </td><td>0.0001</td><td>0.0  </td><td>0.0  </td><td>0.0  </td><td>0.0  </td><td>0.0  </td><td>0.0007</td><td>0.0  </td><td>0.0  </td><td>0.0  </td><td>0.0   </td><td>0.0  </td><td>0.0059</td><td>0.0036</td><td>0.0  </td><td>0.0  </td><td>0.0   </td><td>0.0  </td><td>0.0  </td><td>0.0  </td><td>0.0  </td><td>0.0  </td><td>0.0  </td><td>0.0  </td><td>0.0  </td><td>0.0  </td><td>0.0  </td><td>0.0  </td><td>0.0005</td><td>0.0  </td><td>0.0  </td><td>0.0  </td><td>0.0222</td><td>0.0003</td><td>0.0  </td><td>0.023 </td><td>0.0  </td><td>0.0001</td><td>0.0  </td><td>0.0001</td><td>0.0  </td><td>0.0  </td><td>0.0001</td><td>0.0  </td><td>0.0  </td><td>0.0007</td><td>0.0047</td><td>0.0  </td><td>0.0001</td><td>0.0  </td><td>0.0  </td><td>0.0001</td><td>0.0  </td><td>0.0  </td><td>0.0  </td><td>0.0  </td><td>0.0001</td><td>0.0009</td><td>0.0001</td><td>0.0  </td><td>0.0  </td><td>0.0  </td><td>0.0  </td><td>0.0005</td><td>0.0002</td><td>0.0  </td><td>0.0016</td><td>0.0  </td><td>0.0001</td><td>0.0006</td><td>0.0   </td><td>0.0  </td><td>0.0  </td><td>0.0  </td><td>0.0  </td><td>0.0  </td><td>0.0  </td><td>0.0  </td><td>0.0  </td><td>0.0002</td><td>0.0  </td><td>0.0  </td><td>0.0  </td><td>0.0  </td><td>0.0028</td><td>0.0  </td><td>0.0  </td><td>0.0   </td><td>0.0  </td><td>0.0  </td><td>0.0004</td><td>0.0001</td><td>0.0  </td><td>0.0  </td><td>0.0009</td><td>0.0  </td><td>0.0  </td><td>0.0003</td><td>0.0  </td><td>0.0   </td><td>0.0001</td><td>0.0  </td><td>0.0   </td><td>0.002 </td><td>0.0  </td><td>0.0  </td><td>0.0  </td><td>0.0  </td><td>0.0   </td><td>0.0  </td><td>0.0  </td><td>0.0  </td><td>0.0001</td><td>0.0  </td><td>0.0  </td><td>0.0  </td><td>0.0   </td><td>0.0  </td><td>0.0  </td><td>0.0  </td><td>0.0  </td><td>0.0  </td><td>0.0  </td><td>0.0006</td><td>0.0025</td><td>0.0   </td><td>0.0  </td><td>0.0  </td><td>0.0014</td><td>0.0014</td><td>0.0  </td><td>0.0   </td><td>0.0  </td><td>0.0  </td><td>0.0  </td><td>0.0  </td><td>0.0  </td><td>0.0  </td><td>0.0   </td><td>0.0001</td><td>0.0  </td><td>0.0037</td><td>0.0  </td><td>0.0  </td><td>0.0  </td><td>0.0  </td><td>0.0   </td><td>0.0  </td><td>0.0  </td><td>0.0  </td><td>0.0  </td><td>0.0  </td><td>0.0001</td><td>0.0  </td><td>0.0  </td><td>0.0  </td><td>0.0  </td><td>0.0  </td><td>0.0  </td><td>0.0  </td><td>0.0  </td><td>0.0004</td><td>0.0  </td><td>0.0   </td><td>0.0   </td><td>0.0  </td><td>0.0  </td><td>0.0001</td><td>0.0  </td><td>0.0  </td><td>0.0  </td><td>0.0  </td><td>0.0  </td><td>0.0  </td><td>0.0  </td><td>0.0001</td><td>0.0  </td><td>0.0  </td><td>0.0  </td><td>0.0001</td><td>0.0  </td><td>0.0  </td><td>0.0  </td><td>0.0  </td><td>0.0003</td><td>0.0  </td><td>0.0003</td><td>0.0  </td><td>0.0293</td><td>0.005 </td><td>0.0  </td><td>0.0   </td><td>0.0007</td><td>0.0  </td><td>0.0  </td><td>0.0  </td><td>0.0   </td><td>0.0  </td><td>0.0  </td><td>0.0  </td><td>0.0  </td><td>0.0  </td><td>0.0  </td><td>0.0  </td><td>0.0  </td><td>0.0001</td><td>0.0  </td><td>0.0  </td><td>0.0  </td><td>0.0  </td></tr>\n",
       "<tr><td>f(X):     </td><td>0.0002</td><td>0.0  </td><td>0.0  </td><td>0.0  </td><td>0.0001</td><td>0.0021</td><td>0.001 </td><td>0.0  </td><td>0.0  </td><td>0.0  </td><td>0.0  </td><td>0.0  </td><td>0.0002</td><td>0.0  </td><td>0.0  </td><td>0.0  </td><td>0.0001</td><td>0.0  </td><td>0.0004</td><td>0.0001</td><td>0.0  </td><td>0.0  </td><td>0.0001</td><td>0.0  </td><td>0.0  </td><td>0.0  </td><td>0.0  </td><td>0.0  </td><td>0.0  </td><td>0.0  </td><td>0.0  </td><td>0.0  </td><td>0.0  </td><td>0.0  </td><td>0.0001</td><td>0.0  </td><td>0.0  </td><td>0.0  </td><td>0.0084</td><td>0.0001</td><td>0.0  </td><td>0.0004</td><td>0.0  </td><td>0.0   </td><td>0.0  </td><td>0.0   </td><td>0.0  </td><td>0.0  </td><td>0.0001</td><td>0.0  </td><td>0.0  </td><td>0.0102</td><td>0.0088</td><td>0.0  </td><td>0.0001</td><td>0.0  </td><td>0.0  </td><td>0.0007</td><td>0.0  </td><td>0.0  </td><td>0.0  </td><td>0.0  </td><td>0.0   </td><td>0.0008</td><td>0.0   </td><td>0.0  </td><td>0.0  </td><td>0.0  </td><td>0.0  </td><td>0.0005</td><td>0.0   </td><td>0.0  </td><td>0.0015</td><td>0.0  </td><td>0.0003</td><td>0.0004</td><td>0.0001</td><td>0.0  </td><td>0.0  </td><td>0.0  </td><td>0.0  </td><td>0.0  </td><td>0.0  </td><td>0.0  </td><td>0.0  </td><td>0.0002</td><td>0.0  </td><td>0.0  </td><td>0.0  </td><td>0.0  </td><td>0.0001</td><td>0.0  </td><td>0.0  </td><td>0.0001</td><td>0.0  </td><td>0.0  </td><td>0.0002</td><td>0.0   </td><td>0.0  </td><td>0.0  </td><td>0.0   </td><td>0.0  </td><td>0.0  </td><td>0.0021</td><td>0.0  </td><td>0.0001</td><td>0.0001</td><td>0.0  </td><td>0.0006</td><td>0.0001</td><td>0.0  </td><td>0.0  </td><td>0.0  </td><td>0.0  </td><td>0.0001</td><td>0.0  </td><td>0.0  </td><td>0.0  </td><td>0.0   </td><td>0.0  </td><td>0.0  </td><td>0.0  </td><td>0.0001</td><td>0.0  </td><td>0.0  </td><td>0.0  </td><td>0.0  </td><td>0.0  </td><td>0.0  </td><td>0.0   </td><td>0.0011</td><td>0.0001</td><td>0.0  </td><td>0.0  </td><td>0.0   </td><td>0.0003</td><td>0.0  </td><td>0.0005</td><td>0.0  </td><td>0.0  </td><td>0.0  </td><td>0.0  </td><td>0.0  </td><td>0.0  </td><td>0.0004</td><td>0.0001</td><td>0.0  </td><td>0.0004</td><td>0.0  </td><td>0.0  </td><td>0.0  </td><td>0.0  </td><td>0.0001</td><td>0.0  </td><td>0.0  </td><td>0.0  </td><td>0.0  </td><td>0.0  </td><td>0.0   </td><td>0.0  </td><td>0.0  </td><td>0.0  </td><td>0.0  </td><td>0.0  </td><td>0.0  </td><td>0.0  </td><td>0.0  </td><td>0.001 </td><td>0.0  </td><td>0.0001</td><td>0.0001</td><td>0.0  </td><td>0.0  </td><td>0.0   </td><td>0.0  </td><td>0.0  </td><td>0.0  </td><td>0.0  </td><td>0.0  </td><td>0.0  </td><td>0.0  </td><td>0.0   </td><td>0.0  </td><td>0.0  </td><td>0.0  </td><td>0.0001</td><td>0.0  </td><td>0.0  </td><td>0.0  </td><td>0.0  </td><td>0.0003</td><td>0.0  </td><td>0.0001</td><td>0.0  </td><td>0.1046</td><td>0.0003</td><td>0.0  </td><td>0.0002</td><td>0.0001</td><td>0.0  </td><td>0.0  </td><td>0.0  </td><td>0.0001</td><td>0.0  </td><td>0.0  </td><td>0.0  </td><td>0.0  </td><td>0.0  </td><td>0.0  </td><td>0.0  </td><td>0.0  </td><td>0.0   </td><td>0.0  </td><td>0.0  </td><td>0.0  </td><td>0.0  </td></tr>\n",
       "</tbody>\n",
       "</table>"
      ],
      "text/plain": [
       "<IPython.core.display.HTML object>"
      ]
     },
     "metadata": {},
     "output_type": "display_data"
    }
   ],
   "source": [
    "testModel.print_predict(test_vecs, test_words, technique_labels)"
   ]
  },
  {
   "cell_type": "code",
   "execution_count": 27,
   "id": "9b21183a",
   "metadata": {},
   "outputs": [
    {
     "name": "stdout",
     "output_type": "stream",
     "text": [
      "1/1 [==============================] - 0s 30ms/step\n",
      "words-score: [[ -7.048914   -2.9225307  -2.9271724  -2.9225307  -2.7811809  -2.9225307\n",
      "   -3.722545   -2.9225307 -15.229999   -2.9225307  -2.9534054  -2.9225307\n",
      "   -2.9854913  -2.9225307  -3.7532005  -2.9225307 -13.9995775  -2.9225307\n",
      "   -4.939002   -2.9225307  -3.1921496  -5.4322085  -2.9225307  -3.3544648\n",
      "   -2.9225307  -2.874281   -5.4322085  -2.9225307  -9.922531   -2.9225307\n",
      "   -3.7606065  -2.9225307 -15.229999   -2.9225307  -2.7811809  -2.9225307\n",
      "   -2.9534054  -2.961901   -2.9225307  -2.9225307  -2.9225307  -2.9225307\n",
      "   -2.9225307  -2.9225307  -2.9225307  -2.9225307  -2.9225307  -2.9225307\n",
      "   -2.9225307  -2.9225307  -2.9225307  -2.9225307  -2.9225307  -2.9225307\n",
      "   -2.9225307  -2.9225307  -2.9225307  -2.9225307  -2.9225307  -2.9225307\n",
      "   -2.9225307  -2.9225307  -2.9225307  -2.9225307  -2.9225307  -2.9225307\n",
      "   -2.9225307  -2.9225307  -2.9225307  -2.9225307  -2.9225307  -2.9225307\n",
      "   -2.9225307  -2.9225307  -2.9225307  -2.9225307  -2.9225307  -2.9225307\n",
      "   -2.9225307  -2.9225307]\n",
      " [ -7.048914   -2.9225307  -3.103495   -2.9225307  -2.961901   -2.9942122\n",
      "   -2.9225307  -5.7416024  -2.9225307  -2.961901   -2.7530618  -2.9225307\n",
      "   -5.8903193  -2.9225307  -5.7809796  -2.9225307  -3.049152   -2.961901\n",
      "   -2.9225307  -7.048914   -2.9225307  -2.9887643  -2.9225307 -13.9995775\n",
      "   -2.9225307  -2.9960673  -2.9225307  -6.850058   -2.9225307  -3.1395836\n",
      "   -2.9225307 -15.229999   -2.9225307  -3.0267982  -2.9225307  -2.9534054\n",
      "   -2.9225307  -2.9225307  -2.9225307  -2.9225307  -2.9225307  -2.9225307\n",
      "   -2.9225307  -2.9225307  -2.9225307  -2.9225307  -2.9225307  -2.9225307\n",
      "   -2.9225307  -2.9225307  -2.9225307  -2.9225307  -2.9225307  -2.9225307\n",
      "   -2.9225307  -2.9225307  -2.9225307  -2.9225307  -2.9225307  -2.9225307\n",
      "   -2.9225307  -2.9225307  -2.9225307  -2.9225307  -2.9225307  -2.9225307\n",
      "   -2.9225307  -2.9225307  -2.9225307  -2.9225307  -2.9225307  -2.9225307\n",
      "   -2.9225307  -2.9225307  -2.9225307  -2.9225307  -2.9225307  -2.9225307\n",
      "   -2.9225307  -2.9225307]\n",
      " [ -3.8571332  -2.9225307  -6.850058   -2.9225307  -7.048914   -2.9225307\n",
      "   -2.9534054  -2.9225307  -2.9854913  -2.9225307  -3.7532005  -2.9225307\n",
      "   -3.0643728  -2.9225307  -4.5502195  -2.9225307  -3.6135132  -2.9225307\n",
      "   -3.2950728  -2.9225307 -17.43999    -2.9225307  -3.1641326  -2.9225307\n",
      "   -9.922531   -2.9225307 -18.279945   -2.9225307  -2.9271724  -2.9225307\n",
      "   -2.7811809  -2.961901   -2.9225307  -2.9225307  -2.9225307  -2.9225307\n",
      "   -2.9225307  -2.9225307  -2.9225307  -2.9225307  -2.9225307  -2.9225307\n",
      "   -2.9225307  -2.9225307  -2.9225307  -2.9225307  -2.9225307  -2.9225307\n",
      "   -2.9225307  -2.9225307  -2.9225307  -2.9225307  -2.9225307  -2.9225307\n",
      "   -2.9225307  -2.9225307  -2.9225307  -2.9225307  -2.9225307  -2.9225307\n",
      "   -2.9225307  -2.9225307  -2.9225307  -2.9225307  -2.9225307  -2.9225307\n",
      "   -2.9225307  -2.9225307  -2.9225307  -2.9225307  -2.9225307  -2.9225307\n",
      "   -2.9225307  -2.9225307  -2.9225307  -2.9225307  -2.9225307  -2.9225307\n",
      "   -2.9225307  -2.9225307]\n",
      " [ -3.5072124  -5.4322085  -2.9225307  -7.048914   -2.9225307  -2.9887643\n",
      "   -2.9225307  -3.158747   -2.9225307  -7.048914   -2.9225307  -2.9271724\n",
      "   -2.9225307  -2.7811809  -2.9225307  -2.9534054  -2.9225307  -3.7532005\n",
      "   -2.9225307  -4.7878323  -2.9225307  -2.8822262  -2.9225307  -7.048914\n",
      "   -2.9225307  -2.9994261  -2.9225307  -2.944968   -2.9225307  -3.6799693\n",
      "   -2.9225307  -7.048914   -2.9225307  -2.9225307  -2.9225307  -2.9225307\n",
      "   -2.9225307  -2.9225307  -2.9225307  -2.9225307  -2.9225307  -2.9225307\n",
      "   -2.9225307  -2.9225307  -2.9225307  -2.9225307  -2.9225307  -2.9225307\n",
      "   -2.9225307  -2.9225307  -2.9225307  -2.9225307  -2.9225307  -2.9225307\n",
      "   -2.9225307  -2.9225307  -2.9225307  -2.9225307  -2.9225307  -2.9225307\n",
      "   -2.9225307  -2.9225307  -2.9225307  -2.9225307  -2.9225307  -2.9225307\n",
      "   -2.9225307  -2.9225307  -2.9225307  -2.9225307  -2.9225307  -2.9225307\n",
      "   -2.9225307  -2.9225307  -2.9225307  -2.9225307  -2.9225307  -2.9225307\n",
      "   -2.9225307  -2.9225307]\n",
      " [ -2.9265025  -2.9225307  -3.313108   -5.4322085  -2.9225307  -3.328525\n",
      "   -2.9225307  -7.048914   -2.9225307  -2.842934   -2.9225307  -3.0663657\n",
      "   -2.9225307  -3.4268458 -11.314864   -2.9225307  -3.8387244  -2.9225307\n",
      "  -13.9995775  -2.9225307  -4.411859   -2.9409103  -5.4322085  -2.9225307\n",
      "   -5.7416024  -2.9225307  -3.539539   -2.9225307  -7.048914   -2.9225307\n",
      "   -3.124529   -2.961901   -2.9225307  -2.9225307  -2.9225307  -2.9225307\n",
      "   -2.9225307  -2.9225307  -2.9225307  -2.9225307  -2.9225307  -2.9225307\n",
      "   -2.9225307  -2.9225307  -2.9225307  -2.9225307  -2.9225307  -2.9225307\n",
      "   -2.9225307  -2.9225307  -2.9225307  -2.9225307  -2.9225307  -2.9225307\n",
      "   -2.9225307  -2.9225307  -2.9225307  -2.9225307  -2.9225307  -2.9225307\n",
      "   -2.9225307  -2.9225307  -2.9225307  -2.9225307  -2.9225307  -2.9225307\n",
      "   -2.9225307  -2.9225307  -2.9225307  -2.9225307  -2.9225307  -2.9225307\n",
      "   -2.9225307  -2.9225307  -2.9225307  -2.9225307  -2.9225307  -2.9225307\n",
      "   -2.9225307  -2.9225307]]\n",
      "words-score-percent: [[6.33698619e-06 7.42573977e-01 7.39762485e-01 7.42573977e-01\n",
      "  8.18420589e-01 7.42573977e-01 1.87468231e-01 7.42573977e-01\n",
      "  3.83507005e-17 7.42573977e-01 7.23503530e-01 7.42573977e-01\n",
      "  7.02786207e-01 7.42573977e-01 1.73168421e-01 7.42573977e-01\n",
      "  1.86620184e-15 7.42573977e-01 4.93064569e-03 7.42573977e-01\n",
      "  5.51839292e-01 1.04303716e-03 7.42573977e-01 4.24486458e-01\n",
      "  7.42573977e-01 7.70605326e-01 1.04303716e-03 7.42573977e-01\n",
      "  7.26955218e-10 7.42573977e-01 1.69845909e-01 7.42573977e-01\n",
      "  3.83507005e-17 7.42573977e-01 8.18420589e-01 7.42573977e-01\n",
      "  7.23503530e-01 7.18105555e-01 7.42573977e-01 7.42573977e-01\n",
      "  7.42573977e-01 7.42573977e-01 7.42573977e-01 7.42573977e-01\n",
      "  7.42573977e-01 7.42573977e-01 7.42573977e-01 7.42573977e-01\n",
      "  7.42573977e-01 7.42573977e-01 7.42573977e-01 7.42573977e-01\n",
      "  7.42573977e-01 7.42573977e-01 7.42573977e-01 7.42573977e-01\n",
      "  7.42573977e-01 7.42573977e-01 7.42573977e-01 7.42573977e-01\n",
      "  7.42573977e-01 7.42573977e-01 7.42573977e-01 7.42573977e-01\n",
      "  7.42573977e-01 7.42573977e-01 7.42573977e-01 7.42573977e-01\n",
      "  7.42573977e-01 7.42573977e-01 7.42573977e-01 7.42573977e-01\n",
      "  7.42573977e-01 7.42573977e-01 7.42573977e-01 7.42573977e-01\n",
      "  7.42573977e-01 7.42573977e-01 7.42573977e-01 7.42573977e-01]\n",
      " [5.94413768e-06 7.26171374e-01 5.99839330e-01 7.26171374e-01\n",
      "  7.00812340e-01 6.79028034e-01 7.26171374e-01 3.66255612e-04\n",
      "  7.26171374e-01 7.00812340e-01 8.18991959e-01 7.26171374e-01\n",
      "  2.29210171e-04 7.26171374e-01 3.23512679e-04 7.26171374e-01\n",
      "  6.40172124e-01 7.00812340e-01 7.26171374e-01 5.94413768e-06\n",
      "  7.26171374e-01 6.82759583e-01 7.26171374e-01 1.81081456e-15\n",
      "  7.26171374e-01 6.77752018e-01 7.26171374e-01 1.11260742e-05\n",
      "  7.26171374e-01 5.72247386e-01 7.26171374e-01 3.74363086e-17\n",
      "  7.26171374e-01 6.56239629e-01 7.26171374e-01 7.06397533e-01\n",
      "  7.26171374e-01 7.26171374e-01 7.26171374e-01 7.26171374e-01\n",
      "  7.26171374e-01 7.26171374e-01 7.26171374e-01 7.26171374e-01\n",
      "  7.26171374e-01 7.26171374e-01 7.26171374e-01 7.26171374e-01\n",
      "  7.26171374e-01 7.26171374e-01 7.26171374e-01 7.26171374e-01\n",
      "  7.26171374e-01 7.26171374e-01 7.26171374e-01 7.26171374e-01\n",
      "  7.26171374e-01 7.26171374e-01 7.26171374e-01 7.26171374e-01\n",
      "  7.26171374e-01 7.26171374e-01 7.26171374e-01 7.26171374e-01\n",
      "  7.26171374e-01 7.26171374e-01 7.26171374e-01 7.26171374e-01\n",
      "  7.26171374e-01 7.26171374e-01 7.26171374e-01 7.26171374e-01\n",
      "  7.26171374e-01 7.26171374e-01 7.26171374e-01 7.26171374e-01\n",
      "  7.26171374e-01 7.26171374e-01 7.26171374e-01 7.26171374e-01]\n",
      " [2.60066748e-01 8.14812124e-01 1.07422893e-04 8.14812124e-01\n",
      "  6.27464469e-05 8.14812124e-01 8.01882267e-01 8.14812124e-01\n",
      "  7.87737012e-01 8.14812124e-01 3.17652047e-01 8.14812124e-01\n",
      "  7.49892533e-01 8.14812124e-01 5.11853807e-02 8.14812124e-01\n",
      "  4.04472917e-01 8.14812124e-01 6.16381049e-01 8.14812124e-01\n",
      "  3.93397636e-17 8.14812124e-01 6.95991993e-01 8.14812124e-01\n",
      "  2.64836260e-08 8.14812124e-01 4.05906915e-18 8.14812124e-01\n",
      "  8.12910676e-01 8.14812124e-01 8.65739703e-01 7.98207402e-01\n",
      "  8.14812124e-01 8.14812124e-01 8.14812124e-01 8.14812124e-01\n",
      "  8.14812124e-01 8.14812124e-01 8.14812124e-01 8.14812124e-01\n",
      "  8.14812124e-01 8.14812124e-01 8.14812124e-01 8.14812124e-01\n",
      "  8.14812124e-01 8.14812124e-01 8.14812124e-01 8.14812124e-01\n",
      "  8.14812124e-01 8.14812124e-01 8.14812124e-01 8.14812124e-01\n",
      "  8.14812124e-01 8.14812124e-01 8.14812124e-01 8.14812124e-01\n",
      "  8.14812124e-01 8.14812124e-01 8.14812124e-01 8.14812124e-01\n",
      "  8.14812124e-01 8.14812124e-01 8.14812124e-01 8.14812124e-01\n",
      "  8.14812124e-01 8.14812124e-01 8.14812124e-01 8.14812124e-01\n",
      "  8.14812124e-01 8.14812124e-01 8.14812124e-01 8.14812124e-01\n",
      "  8.14812124e-01 8.14812124e-01 8.14812124e-01 8.14812124e-01\n",
      "  8.14812124e-01 8.14812124e-01 8.14812124e-01 8.14812124e-01]\n",
      " [9.03112441e-03 1.45602300e-07 2.06938133e-01 1.36402799e-11\n",
      "  2.06938133e-01 1.51422575e-01 2.06938133e-01 6.30479008e-02\n",
      "  2.06938133e-01 1.36402799e-11 2.06938133e-01 2.02601656e-01\n",
      "  2.06938133e-01 3.69932204e-01 2.06938133e-01 1.79370195e-01\n",
      "  2.06938133e-01 2.21712049e-03 2.06938133e-01 5.87162685e-06\n",
      "  2.06938133e-01 2.47453436e-01 2.06938133e-01 1.36402799e-11\n",
      "  2.06938133e-01 1.43728957e-01 2.06938133e-01 1.86606616e-01\n",
      "  2.06938133e-01 3.37098609e-03 2.06938133e-01 1.36402799e-11\n",
      "  2.06938133e-01 2.06938133e-01 2.06938133e-01 2.06938133e-01\n",
      "  2.06938133e-01 2.06938133e-01 2.06938133e-01 2.06938133e-01\n",
      "  2.06938133e-01 2.06938133e-01 2.06938133e-01 2.06938133e-01\n",
      "  2.06938133e-01 2.06938133e-01 2.06938133e-01 2.06938133e-01\n",
      "  2.06938133e-01 2.06938133e-01 2.06938133e-01 2.06938133e-01\n",
      "  2.06938133e-01 2.06938133e-01 2.06938133e-01 2.06938133e-01\n",
      "  2.06938133e-01 2.06938133e-01 2.06938133e-01 2.06938133e-01\n",
      "  2.06938133e-01 2.06938133e-01 2.06938133e-01 2.06938133e-01\n",
      "  2.06938133e-01 2.06938133e-01 2.06938133e-01 2.06938133e-01\n",
      "  2.06938133e-01 2.06938133e-01 2.06938133e-01 2.06938133e-01\n",
      "  2.06938133e-01 2.06938133e-01 2.06938133e-01 2.06938133e-01\n",
      "  2.06938133e-01 2.06938133e-01 2.06938133e-01 2.06938133e-01]\n",
      " [7.37099349e-01 7.39706933e-01 4.29710060e-01 5.60927787e-04\n",
      "  7.39706933e-01 4.16919172e-01 7.39706933e-01 2.30562182e-06\n",
      "  7.39706933e-01 7.88344622e-01 7.39706933e-01 6.35430217e-01\n",
      "  7.39706933e-01 3.38585883e-01 1.16404922e-12 7.39706933e-01\n",
      "  1.12098716e-01 7.39706933e-01 1.26812175e-16 7.39706933e-01\n",
      "  1.76809169e-02 7.27500439e-01 5.60927787e-04 7.39706933e-01\n",
      "  1.96055873e-04 7.39706933e-01 2.58722216e-01 7.39706933e-01\n",
      "  2.30562182e-06 7.39706933e-01 5.88532388e-01 7.13130176e-01\n",
      "  7.39706933e-01 7.39706933e-01 7.39706933e-01 7.39706933e-01\n",
      "  7.39706933e-01 7.39706933e-01 7.39706933e-01 7.39706933e-01\n",
      "  7.39706933e-01 7.39706933e-01 7.39706933e-01 7.39706933e-01\n",
      "  7.39706933e-01 7.39706933e-01 7.39706933e-01 7.39706933e-01\n",
      "  7.39706933e-01 7.39706933e-01 7.39706933e-01 7.39706933e-01\n",
      "  7.39706933e-01 7.39706933e-01 7.39706933e-01 7.39706933e-01\n",
      "  7.39706933e-01 7.39706933e-01 7.39706933e-01 7.39706933e-01\n",
      "  7.39706933e-01 7.39706933e-01 7.39706933e-01 7.39706933e-01\n",
      "  7.39706933e-01 7.39706933e-01 7.39706933e-01 7.39706933e-01\n",
      "  7.39706933e-01 7.39706933e-01 7.39706933e-01 7.39706933e-01\n",
      "  7.39706933e-01 7.39706933e-01 7.39706933e-01 7.39706933e-01\n",
      "  7.39706933e-01 7.39706933e-01 7.39706933e-01 7.39706933e-01]]\n",
      "positive ttp predict: [[2.1546790e-05 1.0209549e-04 1.1290478e-05 ... 1.1737822e-06\n",
      "  1.6596408e-05 8.5484697e-07]\n",
      " [1.5356664e-04 8.7690451e-06 1.6262517e-05 ... 2.4654173e-06\n",
      "  6.4757056e-05 1.6554916e-06]\n",
      " [3.7901973e-05 1.9182818e-04 4.3043888e-06 ... 7.8249786e-07\n",
      "  7.5876032e-06 5.8066468e-07]\n",
      " [9.6195035e-06 2.4367397e-05 3.8192855e-05 ... 6.5174902e-07\n",
      "  2.7233156e-07 3.1512840e-07]\n",
      " [2.7030875e-04 2.8326580e-05 2.6946830e-06 ... 1.0018670e-05\n",
      "  9.7083102e-06 5.0730532e-06]]\n",
      "negative ttp predict: [[2.49525201e-09 1.05012816e-07 5.39690106e-08 ... 8.82161721e-09\n",
      "  6.52461751e-10 5.13172571e-09]\n",
      " [8.87267537e-10 1.94991792e-08 1.41679326e-08 ... 3.33483485e-09\n",
      "  2.77258549e-09 2.41428744e-09]\n",
      " [9.76979608e-10 2.17667271e-08 1.31180489e-08 ... 3.40086159e-09\n",
      "  2.37432896e-09 2.36869746e-09]\n",
      " [5.14350688e-07 1.17900767e-04 4.20266240e-08 ... 4.63566963e-08\n",
      "  2.16080398e-09 3.22819851e-08]\n",
      " [1.09681322e-08 3.93728698e-07 2.10868878e-09 ... 2.23843362e-08\n",
      "  3.01737771e-07 3.00723322e-08]]\n",
      "original ttp predict: [[2.49525201e-09 1.05012816e-07 5.39690106e-08 ... 8.82161721e-09\n",
      "  6.52461751e-10 5.13172571e-09]\n",
      " [8.87267537e-10 1.94991792e-08 1.41679326e-08 ... 3.33483485e-09\n",
      "  2.77258549e-09 2.41428744e-09]\n",
      " [9.76979608e-10 2.17667271e-08 1.31180489e-08 ... 3.40086159e-09\n",
      "  2.37432896e-09 2.36869746e-09]\n",
      " [5.14350688e-07 1.17900767e-04 4.20266240e-08 ... 4.63566963e-08\n",
      "  2.16080398e-09 3.22819851e-08]\n",
      " [1.09681322e-08 3.93728698e-07 2.10868878e-09 ... 2.23843362e-08\n",
      "  3.01737771e-07 3.00723322e-08]]\n"
     ]
    }
   ],
   "source": [
    "print_predict(testModel, test_vecs)"
   ]
  },
  {
   "cell_type": "code",
   "execution_count": null,
   "id": "06e3a19c",
   "metadata": {},
   "outputs": [],
   "source": []
  }
 ],
 "metadata": {
  "kernelspec": {
   "display_name": "Python 3",
   "language": "python",
   "name": "python3"
  },
  "language_info": {
   "codemirror_mode": {
    "name": "ipython",
    "version": 3
   },
   "file_extension": ".py",
   "mimetype": "text/x-python",
   "name": "python",
   "nbconvert_exporter": "python",
   "pygments_lexer": "ipython3",
   "version": "3.8.10"
  },
  "toc": {
   "base_numbering": 1,
   "nav_menu": {},
   "number_sections": true,
   "sideBar": true,
   "skip_h1_title": false,
   "title_cell": "Table of Contents",
   "title_sidebar": "Contents",
   "toc_cell": false,
   "toc_position": {
    "height": "calc(100% - 180px)",
    "left": "10px",
    "top": "150px",
    "width": "375.188px"
   },
   "toc_section_display": true,
   "toc_window_display": true
  }
 },
 "nbformat": 4,
 "nbformat_minor": 5
}
